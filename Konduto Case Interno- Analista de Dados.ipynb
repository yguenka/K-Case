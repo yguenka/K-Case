{
 "cells": [
  {
   "cell_type": "markdown",
   "metadata": {},
   "source": [
    "<b><u>Bibliotecas utilizadas</b></u>"
   ]
  },
  {
   "cell_type": "code",
   "execution_count": 1,
   "metadata": {
    "ExecuteTime": {
     "end_time": "2020-07-10T22:10:34.259234Z",
     "start_time": "2020-07-10T22:10:32.586767Z"
    }
   },
   "outputs": [],
   "source": [
    "import pandas as pd\n",
    "import matplotlib.pyplot as plt\n",
    "import seaborn as sns\n",
    "import folium\n",
    "from geopy.geocoders import Nominatim"
   ]
  },
  {
   "cell_type": "markdown",
   "metadata": {},
   "source": [
    "<b><u>O objetivo</b></u>\n",
    "\n",
    "Tivemos um ataque na loja e o objetivo final da equipe é criar/melhorar um modelo que consiga conter o ataque caso tenhamos dados suficientes para a execução dessa tarefa, mas até lá, você precisa atuar rapidamente encontrando uma solução que ajude a estancar o ataque, para isso será necessário usar os dados a seu favor para encontrar a melhor solução. \n",
    "\n",
    "<b><u>Os dados</b></u>\n",
    "\n",
    "Na planilha `Teste_Konduto123_1.xlsx`, você encontrará os dados transacionais relacionados ao ataque. Com isso, precisamos que você olhe e nos traga insumos sobre: \n"
   ]
  },
  {
   "cell_type": "markdown",
   "metadata": {},
   "source": [
    "# Quantos % das vendas foram aprovadas pelo sistema? \n",
    "\n",
    "OBS: Nesse caso, a recomendação é o que o modelo propõe e o status é a decisão final, que pode ser influenciado por regras por exemplo: Modelo aprovou, mas existia uma regra de valor que tem intuito para negar, então o pedido será negado. Mas nem sempre o status é baseado por regra, pode ser baseado como o status da decisão do modelo também, por exemplo: Recomendação: Aprovado e Status Aprovado. "
   ]
  },
  {
   "cell_type": "code",
   "execution_count": 2,
   "metadata": {
    "ExecuteTime": {
     "end_time": "2020-07-10T22:10:34.367615Z",
     "start_time": "2020-07-10T22:10:34.261963Z"
    }
   },
   "outputs": [],
   "source": [
    "df = pd.read_excel('Teste_Konduto123_1.xlsx')"
   ]
  },
  {
   "cell_type": "code",
   "execution_count": 3,
   "metadata": {
    "ExecuteTime": {
     "end_time": "2020-07-10T22:10:34.373601Z",
     "start_time": "2020-07-10T22:10:34.369610Z"
    }
   },
   "outputs": [],
   "source": [
    "total = df.shape[0]"
   ]
  },
  {
   "cell_type": "code",
   "execution_count": 4,
   "metadata": {
    "ExecuteTime": {
     "end_time": "2020-07-10T22:10:34.473083Z",
     "start_time": "2020-07-10T22:10:34.375594Z"
    }
   },
   "outputs": [
    {
     "data": {
      "text/plain": [
       "array(['decline', 'approve'], dtype=object)"
      ]
     },
     "execution_count": 4,
     "metadata": {},
     "output_type": "execute_result"
    }
   ],
   "source": [
    "df['recomendação'].unique()"
   ]
  },
  {
   "cell_type": "code",
   "execution_count": 5,
   "metadata": {
    "ExecuteTime": {
     "end_time": "2020-07-10T22:10:34.545323Z",
     "start_time": "2020-07-10T22:10:34.481071Z"
    }
   },
   "outputs": [
    {
     "data": {
      "text/plain": [
       "array(['declined', 'approved'], dtype=object)"
      ]
     },
     "execution_count": 5,
     "metadata": {},
     "output_type": "execute_result"
    }
   ],
   "source": [
    "df['status'].unique()"
   ]
  },
  {
   "cell_type": "code",
   "execution_count": 6,
   "metadata": {
    "ExecuteTime": {
     "end_time": "2020-07-10T22:10:34.627650Z",
     "start_time": "2020-07-10T22:10:34.555295Z"
    }
   },
   "outputs": [],
   "source": [
    "mask = (df['recomendação'] == 'approve') & (df['status'] == 'approved')\n",
    "aprovados = df[mask].shape[0]"
   ]
  },
  {
   "cell_type": "code",
   "execution_count": 7,
   "metadata": {
    "ExecuteTime": {
     "end_time": "2020-07-10T22:10:34.721464Z",
     "start_time": "2020-07-10T22:10:34.629612Z"
    }
   },
   "outputs": [
    {
     "name": "stdout",
     "output_type": "stream",
     "text": [
      "% de aprovados pelo sistema: 7.6\n"
     ]
    }
   ],
   "source": [
    "print('% de aprovados pelo sistema:', aprovados/total*100)"
   ]
  },
  {
   "cell_type": "markdown",
   "metadata": {},
   "source": [
    "# Qual a taxa % de tentativa de fraude que foi barrado? \n",
    "\n",
    "Aqui, você precisa encontrar o perfil da fraude para encontrar o % de tentativa de fraude barrado. \n"
   ]
  },
  {
   "cell_type": "code",
   "execution_count": 8,
   "metadata": {
    "ExecuteTime": {
     "end_time": "2020-07-10T22:10:34.809252Z",
     "start_time": "2020-07-10T22:10:34.727444Z"
    }
   },
   "outputs": [],
   "source": [
    "df['status'] = df['status'].replace('approved','0').replace('declined','1').astype(int)"
   ]
  },
  {
   "cell_type": "code",
   "execution_count": 9,
   "metadata": {
    "ExecuteTime": {
     "end_time": "2020-07-10T22:10:34.953519Z",
     "start_time": "2020-07-10T22:10:34.810248Z"
    }
   },
   "outputs": [
    {
     "data": {
      "text/html": [
       "<div>\n",
       "<style scoped>\n",
       "    .dataframe tbody tr th:only-of-type {\n",
       "        vertical-align: middle;\n",
       "    }\n",
       "\n",
       "    .dataframe tbody tr th {\n",
       "        vertical-align: top;\n",
       "    }\n",
       "\n",
       "    .dataframe thead th {\n",
       "        text-align: right;\n",
       "    }\n",
       "</style>\n",
       "<table border=\"1\" class=\"dataframe\">\n",
       "  <thead>\n",
       "    <tr style=\"text-align: right;\">\n",
       "      <th></th>\n",
       "      <th>data_pedido</th>\n",
       "      <th>order_id</th>\n",
       "      <th>recomendação</th>\n",
       "      <th>status</th>\n",
       "      <th>valor</th>\n",
       "      <th>score</th>\n",
       "      <th>ip</th>\n",
       "      <th>email</th>\n",
       "      <th>nome</th>\n",
       "      <th>device_id</th>\n",
       "      <th>telefone</th>\n",
       "      <th>endereço</th>\n",
       "      <th>CEP</th>\n",
       "      <th>cidade</th>\n",
       "      <th>estado</th>\n",
       "    </tr>\n",
       "  </thead>\n",
       "  <tbody>\n",
       "    <tr>\n",
       "      <th>0</th>\n",
       "      <td>2020-04-26</td>\n",
       "      <td>1</td>\n",
       "      <td>decline</td>\n",
       "      <td>1</td>\n",
       "      <td>335.16</td>\n",
       "      <td>0.00</td>\n",
       "      <td>NaN</td>\n",
       "      <td>aaraonovaes23@gmail.com</td>\n",
       "      <td>Aarão Novaes</td>\n",
       "      <td>NaN</td>\n",
       "      <td>5568229838958</td>\n",
       "      <td>Rua B - Loteamento Altos do São Gonçalo</td>\n",
       "      <td>78094628</td>\n",
       "      <td>Cuiabá</td>\n",
       "      <td>MT</td>\n",
       "    </tr>\n",
       "    <tr>\n",
       "      <th>1</th>\n",
       "      <td>2020-04-27</td>\n",
       "      <td>2</td>\n",
       "      <td>decline</td>\n",
       "      <td>1</td>\n",
       "      <td>13.18</td>\n",
       "      <td>0.22</td>\n",
       "      <td>NaN</td>\n",
       "      <td>aarotfruf4omhairp5dd0n8h3n6al@yahoo.com</td>\n",
       "      <td>Abel Motta</td>\n",
       "      <td>NaN</td>\n",
       "      <td>554068852436191</td>\n",
       "      <td>Praça General Araripe de Faria - Vila Gomes</td>\n",
       "      <td>5590020</td>\n",
       "      <td>São Paulo</td>\n",
       "      <td>SP</td>\n",
       "    </tr>\n",
       "    <tr>\n",
       "      <th>2</th>\n",
       "      <td>2020-04-27</td>\n",
       "      <td>3</td>\n",
       "      <td>decline</td>\n",
       "      <td>1</td>\n",
       "      <td>13.18</td>\n",
       "      <td>0.90</td>\n",
       "      <td>NaN</td>\n",
       "      <td>oh54fdhara0dornaurftni8a6ml3p@yahoo.com</td>\n",
       "      <td>Abel Palmeira</td>\n",
       "      <td>NaN</td>\n",
       "      <td>550897009993889</td>\n",
       "      <td>Praça General Araripe de Faria - Vila Gomes</td>\n",
       "      <td>5590020</td>\n",
       "      <td>São Paulo</td>\n",
       "      <td>SP</td>\n",
       "    </tr>\n",
       "    <tr>\n",
       "      <th>3</th>\n",
       "      <td>2020-05-04</td>\n",
       "      <td>4</td>\n",
       "      <td>decline</td>\n",
       "      <td>1</td>\n",
       "      <td>13.18</td>\n",
       "      <td>0.96</td>\n",
       "      <td>NaN</td>\n",
       "      <td>swwyuj5fxegudyiktkhbcfee8d7wi8@yahoo.com</td>\n",
       "      <td>Abel Thomé</td>\n",
       "      <td>NaN</td>\n",
       "      <td>557373826060780</td>\n",
       "      <td>Praça General Araripe de Faria - Vila Gomes</td>\n",
       "      <td>5590020</td>\n",
       "      <td>São Paulo</td>\n",
       "      <td>SP</td>\n",
       "    </tr>\n",
       "    <tr>\n",
       "      <th>4</th>\n",
       "      <td>2020-05-01</td>\n",
       "      <td>5</td>\n",
       "      <td>decline</td>\n",
       "      <td>1</td>\n",
       "      <td>96.97</td>\n",
       "      <td>0.00</td>\n",
       "      <td>NaN</td>\n",
       "      <td>abelvillegas@gmail.com</td>\n",
       "      <td>Abel Villégas</td>\n",
       "      <td>NaN</td>\n",
       "      <td>557176579579867</td>\n",
       "      <td>Rua Dom Pedro I - Nova Itapira</td>\n",
       "      <td>13974250</td>\n",
       "      <td>Itapira</td>\n",
       "      <td>SP</td>\n",
       "    </tr>\n",
       "    <tr>\n",
       "      <th>...</th>\n",
       "      <td>...</td>\n",
       "      <td>...</td>\n",
       "      <td>...</td>\n",
       "      <td>...</td>\n",
       "      <td>...</td>\n",
       "      <td>...</td>\n",
       "      <td>...</td>\n",
       "      <td>...</td>\n",
       "      <td>...</td>\n",
       "      <td>...</td>\n",
       "      <td>...</td>\n",
       "      <td>...</td>\n",
       "      <td>...</td>\n",
       "      <td>...</td>\n",
       "      <td>...</td>\n",
       "    </tr>\n",
       "    <tr>\n",
       "      <th>457</th>\n",
       "      <td>2020-05-04</td>\n",
       "      <td>630</td>\n",
       "      <td>decline</td>\n",
       "      <td>1</td>\n",
       "      <td>21.25</td>\n",
       "      <td>0.50</td>\n",
       "      <td>NaN</td>\n",
       "      <td>etwdbeui8shwduyckfjg7ey8ikx5fw@yahoo.com</td>\n",
       "      <td>Jonas Souza</td>\n",
       "      <td>NaN</td>\n",
       "      <td>5504445868915</td>\n",
       "      <td>Praça General Araripe de Faria - Vila Gomes</td>\n",
       "      <td>5590020</td>\n",
       "      <td>São Paulo</td>\n",
       "      <td>SP</td>\n",
       "    </tr>\n",
       "    <tr>\n",
       "      <th>458</th>\n",
       "      <td>2020-04-24</td>\n",
       "      <td>631</td>\n",
       "      <td>decline</td>\n",
       "      <td>1</td>\n",
       "      <td>22.85</td>\n",
       "      <td>0.65</td>\n",
       "      <td>NaN</td>\n",
       "      <td>nokef19470@itiomail.com</td>\n",
       "      <td>Jordana Aires</td>\n",
       "      <td>NaN</td>\n",
       "      <td>55461658545670</td>\n",
       "      <td>Avenida Presidente Tancredo Neves - Jabotiana</td>\n",
       "      <td>49095000</td>\n",
       "      <td>Aracaju</td>\n",
       "      <td>SE</td>\n",
       "    </tr>\n",
       "    <tr>\n",
       "      <th>459</th>\n",
       "      <td>2020-04-28</td>\n",
       "      <td>632</td>\n",
       "      <td>decline</td>\n",
       "      <td>1</td>\n",
       "      <td>21.26</td>\n",
       "      <td>0.62</td>\n",
       "      <td>NaN</td>\n",
       "      <td>s3fgrh8pju0ceheeb47@yahoo.com</td>\n",
       "      <td>Jordana Godinho</td>\n",
       "      <td>NaN</td>\n",
       "      <td>557498300858448</td>\n",
       "      <td>Praça General Araripe de Faria - Vila Gomes</td>\n",
       "      <td>5590020</td>\n",
       "      <td>São Paulo</td>\n",
       "      <td>SP</td>\n",
       "    </tr>\n",
       "    <tr>\n",
       "      <th>460</th>\n",
       "      <td>2020-04-24</td>\n",
       "      <td>633</td>\n",
       "      <td>decline</td>\n",
       "      <td>1</td>\n",
       "      <td>41.33</td>\n",
       "      <td>0.57</td>\n",
       "      <td>NaN</td>\n",
       "      <td>nokef8924@itiomail.com</td>\n",
       "      <td>Jordana Mieiro</td>\n",
       "      <td>NaN</td>\n",
       "      <td>55040563049405</td>\n",
       "      <td>Avenida Presidente Tancredo Neves - Jabotiana</td>\n",
       "      <td>49095000</td>\n",
       "      <td>Aracaju</td>\n",
       "      <td>SE</td>\n",
       "    </tr>\n",
       "    <tr>\n",
       "      <th>461</th>\n",
       "      <td>2020-04-29</td>\n",
       "      <td>634</td>\n",
       "      <td>decline</td>\n",
       "      <td>1</td>\n",
       "      <td>13.68</td>\n",
       "      <td>0.93</td>\n",
       "      <td>NaN</td>\n",
       "      <td>x657pf3jgcsyo8svlfswd@yahoo.com</td>\n",
       "      <td>Jordana Picanço</td>\n",
       "      <td>NaN</td>\n",
       "      <td>5502418059035</td>\n",
       "      <td>Avenida das Américas - Recreio dos Bandeirantes</td>\n",
       "      <td>22790701</td>\n",
       "      <td>São Paulo</td>\n",
       "      <td>RJ</td>\n",
       "    </tr>\n",
       "  </tbody>\n",
       "</table>\n",
       "<p>462 rows × 15 columns</p>\n",
       "</div>"
      ],
      "text/plain": [
       "    data_pedido  order_id recomendação  status   valor  score  ip  \\\n",
       "0    2020-04-26         1      decline       1  335.16   0.00 NaN   \n",
       "1    2020-04-27         2      decline       1   13.18   0.22 NaN   \n",
       "2    2020-04-27         3      decline       1   13.18   0.90 NaN   \n",
       "3    2020-05-04         4      decline       1   13.18   0.96 NaN   \n",
       "4    2020-05-01         5      decline       1   96.97   0.00 NaN   \n",
       "..          ...       ...          ...     ...     ...    ...  ..   \n",
       "457  2020-05-04       630      decline       1   21.25   0.50 NaN   \n",
       "458  2020-04-24       631      decline       1   22.85   0.65 NaN   \n",
       "459  2020-04-28       632      decline       1   21.26   0.62 NaN   \n",
       "460  2020-04-24       633      decline       1   41.33   0.57 NaN   \n",
       "461  2020-04-29       634      decline       1   13.68   0.93 NaN   \n",
       "\n",
       "                                        email             nome  device_id  \\\n",
       "0                     aaraonovaes23@gmail.com     Aarão Novaes        NaN   \n",
       "1     aarotfruf4omhairp5dd0n8h3n6al@yahoo.com       Abel Motta        NaN   \n",
       "2     oh54fdhara0dornaurftni8a6ml3p@yahoo.com    Abel Palmeira        NaN   \n",
       "3    swwyuj5fxegudyiktkhbcfee8d7wi8@yahoo.com       Abel Thomé        NaN   \n",
       "4                      abelvillegas@gmail.com    Abel Villégas        NaN   \n",
       "..                                        ...              ...        ...   \n",
       "457  etwdbeui8shwduyckfjg7ey8ikx5fw@yahoo.com      Jonas Souza        NaN   \n",
       "458                   nokef19470@itiomail.com    Jordana Aires        NaN   \n",
       "459             s3fgrh8pju0ceheeb47@yahoo.com  Jordana Godinho        NaN   \n",
       "460                    nokef8924@itiomail.com   Jordana Mieiro        NaN   \n",
       "461           x657pf3jgcsyo8svlfswd@yahoo.com  Jordana Picanço        NaN   \n",
       "\n",
       "            telefone                                         endereço  \\\n",
       "0      5568229838958          Rua B - Loteamento Altos do São Gonçalo   \n",
       "1    554068852436191      Praça General Araripe de Faria - Vila Gomes   \n",
       "2    550897009993889      Praça General Araripe de Faria - Vila Gomes   \n",
       "3    557373826060780      Praça General Araripe de Faria - Vila Gomes   \n",
       "4    557176579579867                   Rua Dom Pedro I - Nova Itapira   \n",
       "..               ...                                              ...   \n",
       "457    5504445868915      Praça General Araripe de Faria - Vila Gomes   \n",
       "458   55461658545670    Avenida Presidente Tancredo Neves - Jabotiana   \n",
       "459  557498300858448      Praça General Araripe de Faria - Vila Gomes   \n",
       "460   55040563049405    Avenida Presidente Tancredo Neves - Jabotiana   \n",
       "461    5502418059035  Avenida das Américas - Recreio dos Bandeirantes   \n",
       "\n",
       "          CEP    cidade  estado  \n",
       "0    78094628     Cuiabá     MT  \n",
       "1     5590020  São Paulo     SP  \n",
       "2     5590020  São Paulo     SP  \n",
       "3     5590020  São Paulo     SP  \n",
       "4    13974250    Itapira     SP  \n",
       "..        ...        ...    ...  \n",
       "457   5590020  São Paulo     SP  \n",
       "458  49095000    Aracaju     SE  \n",
       "459   5590020  São Paulo     SP  \n",
       "460  49095000    Aracaju     SE  \n",
       "461  22790701  São Paulo     RJ  \n",
       "\n",
       "[462 rows x 15 columns]"
      ]
     },
     "execution_count": 9,
     "metadata": {},
     "output_type": "execute_result"
    }
   ],
   "source": [
    "mask_rep = (df['recomendação'] == 'decline')\n",
    "reprovados = df[mask_rep].reset_index(drop=True)\n",
    "reprovados"
   ]
  },
  {
   "cell_type": "code",
   "execution_count": 10,
   "metadata": {
    "ExecuteTime": {
     "end_time": "2020-07-10T22:10:35.115602Z",
     "start_time": "2020-07-10T22:10:34.955515Z"
    }
   },
   "outputs": [
    {
     "name": "stderr",
     "output_type": "stream",
     "text": [
      "C:\\Users\\yukar\\anaconda3\\lib\\site-packages\\ipykernel_launcher.py:3: SettingWithCopyWarning: \n",
      "A value is trying to be set on a copy of a slice from a DataFrame\n",
      "\n",
      "See the caveats in the documentation: https://pandas.pydata.org/pandas-docs/stable/user_guide/indexing.html#returning-a-view-versus-a-copy\n",
      "  This is separate from the ipykernel package so we can avoid doing imports until\n"
     ]
    }
   ],
   "source": [
    "reprovados['nome1'] = \"Nome\"\n",
    "for nome in range(0,462):\n",
    "    reprovados['nome1'][nome] = reprovados['nome'][nome].split(' ')[0]"
   ]
  },
  {
   "cell_type": "code",
   "execution_count": 39,
   "metadata": {
    "ExecuteTime": {
     "end_time": "2020-07-10T22:25:59.509062Z",
     "start_time": "2020-07-10T22:25:59.496094Z"
    }
   },
   "outputs": [],
   "source": [
    "fraude = pd.DataFrame(data={'nome': reprovados['nome1'], 'CEP': reprovados['CEP'], 'endereço': reprovados['endereço'], \n",
    "                            'cidade':reprovados['cidade '], 'status':reprovados['status']}).drop_duplicates().reset_index(drop=True)"
   ]
  },
  {
   "cell_type": "code",
   "execution_count": 40,
   "metadata": {
    "ExecuteTime": {
     "end_time": "2020-07-10T22:25:59.768814Z",
     "start_time": "2020-07-10T22:25:59.751889Z"
    }
   },
   "outputs": [
    {
     "data": {
      "text/html": [
       "<div>\n",
       "<style scoped>\n",
       "    .dataframe tbody tr th:only-of-type {\n",
       "        vertical-align: middle;\n",
       "    }\n",
       "\n",
       "    .dataframe tbody tr th {\n",
       "        vertical-align: top;\n",
       "    }\n",
       "\n",
       "    .dataframe thead th {\n",
       "        text-align: right;\n",
       "    }\n",
       "</style>\n",
       "<table border=\"1\" class=\"dataframe\">\n",
       "  <thead>\n",
       "    <tr style=\"text-align: right;\">\n",
       "      <th></th>\n",
       "      <th>nome</th>\n",
       "      <th>CEP</th>\n",
       "      <th>endereço</th>\n",
       "      <th>cidade</th>\n",
       "      <th>status</th>\n",
       "    </tr>\n",
       "  </thead>\n",
       "  <tbody>\n",
       "    <tr>\n",
       "      <th>0</th>\n",
       "      <td>Aarão</td>\n",
       "      <td>78094628</td>\n",
       "      <td>Rua B - Loteamento Altos do São Gonçalo</td>\n",
       "      <td>Cuiabá</td>\n",
       "      <td>1</td>\n",
       "    </tr>\n",
       "    <tr>\n",
       "      <th>1</th>\n",
       "      <td>Abel</td>\n",
       "      <td>5590020</td>\n",
       "      <td>Praça General Araripe de Faria - Vila Gomes</td>\n",
       "      <td>São Paulo</td>\n",
       "      <td>1</td>\n",
       "    </tr>\n",
       "    <tr>\n",
       "      <th>2</th>\n",
       "      <td>Abel</td>\n",
       "      <td>13974250</td>\n",
       "      <td>Rua Dom Pedro I - Nova Itapira</td>\n",
       "      <td>Itapira</td>\n",
       "      <td>1</td>\n",
       "    </tr>\n",
       "    <tr>\n",
       "      <th>3</th>\n",
       "      <td>Abraão</td>\n",
       "      <td>22790701</td>\n",
       "      <td>Avenida das Américas - Recreio dos Bandeirantes</td>\n",
       "      <td>São Paulo</td>\n",
       "      <td>1</td>\n",
       "    </tr>\n",
       "    <tr>\n",
       "      <th>4</th>\n",
       "      <td>Abraão</td>\n",
       "      <td>5590020</td>\n",
       "      <td>Praça General Araripe de Faria - Vila Gomes</td>\n",
       "      <td>São Paulo</td>\n",
       "      <td>1</td>\n",
       "    </tr>\n",
       "    <tr>\n",
       "      <th>...</th>\n",
       "      <td>...</td>\n",
       "      <td>...</td>\n",
       "      <td>...</td>\n",
       "      <td>...</td>\n",
       "      <td>...</td>\n",
       "    </tr>\n",
       "    <tr>\n",
       "      <th>411</th>\n",
       "      <td>Jonas</td>\n",
       "      <td>5590020</td>\n",
       "      <td>Praça General Araripe de Faria - Vila Gomes</td>\n",
       "      <td>Piracicaba</td>\n",
       "      <td>1</td>\n",
       "    </tr>\n",
       "    <tr>\n",
       "      <th>412</th>\n",
       "      <td>Jonas</td>\n",
       "      <td>5590020</td>\n",
       "      <td>Praça General Araripe de Faria - Vila Gomes</td>\n",
       "      <td>São Paulo</td>\n",
       "      <td>1</td>\n",
       "    </tr>\n",
       "    <tr>\n",
       "      <th>413</th>\n",
       "      <td>Jordana</td>\n",
       "      <td>49095000</td>\n",
       "      <td>Avenida Presidente Tancredo Neves - Jabotiana</td>\n",
       "      <td>Aracaju</td>\n",
       "      <td>1</td>\n",
       "    </tr>\n",
       "    <tr>\n",
       "      <th>414</th>\n",
       "      <td>Jordana</td>\n",
       "      <td>5590020</td>\n",
       "      <td>Praça General Araripe de Faria - Vila Gomes</td>\n",
       "      <td>São Paulo</td>\n",
       "      <td>1</td>\n",
       "    </tr>\n",
       "    <tr>\n",
       "      <th>415</th>\n",
       "      <td>Jordana</td>\n",
       "      <td>22790701</td>\n",
       "      <td>Avenida das Américas - Recreio dos Bandeirantes</td>\n",
       "      <td>São Paulo</td>\n",
       "      <td>1</td>\n",
       "    </tr>\n",
       "  </tbody>\n",
       "</table>\n",
       "<p>416 rows × 5 columns</p>\n",
       "</div>"
      ],
      "text/plain": [
       "        nome       CEP                                         endereço  \\\n",
       "0      Aarão  78094628          Rua B - Loteamento Altos do São Gonçalo   \n",
       "1       Abel   5590020      Praça General Araripe de Faria - Vila Gomes   \n",
       "2       Abel  13974250                   Rua Dom Pedro I - Nova Itapira   \n",
       "3     Abraão  22790701  Avenida das Américas - Recreio dos Bandeirantes   \n",
       "4     Abraão   5590020      Praça General Araripe de Faria - Vila Gomes   \n",
       "..       ...       ...                                              ...   \n",
       "411    Jonas   5590020      Praça General Araripe de Faria - Vila Gomes   \n",
       "412    Jonas   5590020      Praça General Araripe de Faria - Vila Gomes   \n",
       "413  Jordana  49095000    Avenida Presidente Tancredo Neves - Jabotiana   \n",
       "414  Jordana   5590020      Praça General Araripe de Faria - Vila Gomes   \n",
       "415  Jordana  22790701  Avenida das Américas - Recreio dos Bandeirantes   \n",
       "\n",
       "         cidade  status  \n",
       "0        Cuiabá       1  \n",
       "1     São Paulo       1  \n",
       "2       Itapira       1  \n",
       "3     São Paulo       1  \n",
       "4     São Paulo       1  \n",
       "..          ...     ...  \n",
       "411  Piracicaba       1  \n",
       "412   São Paulo       1  \n",
       "413     Aracaju       1  \n",
       "414   São Paulo       1  \n",
       "415   São Paulo       1  \n",
       "\n",
       "[416 rows x 5 columns]"
      ]
     },
     "execution_count": 40,
     "metadata": {},
     "output_type": "execute_result"
    }
   ],
   "source": [
    "fraude"
   ]
  },
  {
   "cell_type": "markdown",
   "metadata": {},
   "source": [
    "Ao analisar os dados, podemos observar que há muitos CEPs repetidos e/ou com nomes repetidos. Então ao pegar os números dos CEPs repetidos (até porque quando efetuamos a compra, temos que inserir o endereço de entrega e se for diferente, será entregue em locais diferentes) podemos enxergar a taxa de tentativa de fraudes."
   ]
  },
  {
   "cell_type": "code",
   "execution_count": 41,
   "metadata": {
    "ExecuteTime": {
     "end_time": "2020-07-10T22:26:00.314011Z",
     "start_time": "2020-07-10T22:26:00.308029Z"
    }
   },
   "outputs": [],
   "source": [
    "fraude_rep = fraude['CEP'].unique().shape[0]"
   ]
  },
  {
   "cell_type": "code",
   "execution_count": 42,
   "metadata": {
    "ExecuteTime": {
     "end_time": "2020-07-10T22:26:00.876321Z",
     "start_time": "2020-07-10T22:26:00.870327Z"
    }
   },
   "outputs": [
    {
     "name": "stdout",
     "output_type": "stream",
     "text": [
      "Taxa % de tentativa de fraude : 16.2\n"
     ]
    }
   ],
   "source": [
    "print('Taxa % de tentativa de fraude :', fraude_rep/total*100)"
   ]
  },
  {
   "cell_type": "markdown",
   "metadata": {},
   "source": [
    "# Se nao tomarmos ações, qual seria a taxa % de chargeback da loja? \n",
    "\n",
    "Assumindo que as fraudes tivessem passado e sido aprovadas pelo modelo ou regras, qual seria o % de chargeback dessa loja? \n"
   ]
  },
  {
   "cell_type": "code",
   "execution_count": 43,
   "metadata": {
    "ExecuteTime": {
     "end_time": "2020-07-10T22:26:01.587099Z",
     "start_time": "2020-07-10T22:26:01.582084Z"
    }
   },
   "outputs": [],
   "source": [
    "charge = fraude['CEP'].shape[0]"
   ]
  },
  {
   "cell_type": "code",
   "execution_count": 44,
   "metadata": {
    "ExecuteTime": {
     "end_time": "2020-07-10T22:26:02.065237Z",
     "start_time": "2020-07-10T22:26:02.060232Z"
    }
   },
   "outputs": [
    {
     "name": "stdout",
     "output_type": "stream",
     "text": [
      "Taxa % de chargeback : 83.2\n"
     ]
    }
   ],
   "source": [
    "print('Taxa % de chargeback :', charge/total*100)"
   ]
  },
  {
   "cell_type": "markdown",
   "metadata": {},
   "source": [
    "# Qual a taxa de falso positivo que barramos? \n",
    "\n",
    "Falso positivo é tudo aquilo que negamos e que teria potencial de ser o cliente, ou seja, sua tarefa é encontrar o % desses clientes barrados erroneamente. \n"
   ]
  },
  {
   "cell_type": "code",
   "execution_count": 45,
   "metadata": {
    "ExecuteTime": {
     "end_time": "2020-07-10T22:26:05.926883Z",
     "start_time": "2020-07-10T22:26:05.910929Z"
    }
   },
   "outputs": [
    {
     "name": "stderr",
     "output_type": "stream",
     "text": [
      "C:\\Users\\yukar\\anaconda3\\lib\\site-packages\\ipykernel_launcher.py:4: SettingWithCopyWarning: \n",
      "A value is trying to be set on a copy of a slice from a DataFrame\n",
      "\n",
      "See the caveats in the documentation: https://pandas.pydata.org/pandas-docs/stable/user_guide/indexing.html#returning-a-view-versus-a-copy\n",
      "  after removing the cwd from sys.path.\n"
     ]
    }
   ],
   "source": [
    "aprovados = df[mask].reset_index(drop=True)\n",
    "aprovados['nome1'] = \"Nome\"\n",
    "for nome in range(0,38):\n",
    "    aprovados['nome1'][nome] = aprovados['nome'][nome].split(' ')[0]"
   ]
  },
  {
   "cell_type": "code",
   "execution_count": 46,
   "metadata": {
    "ExecuteTime": {
     "end_time": "2020-07-10T22:26:06.277316Z",
     "start_time": "2020-07-10T22:26:06.270340Z"
    },
    "scrolled": false
   },
   "outputs": [],
   "source": [
    "aprov = pd.DataFrame(data={'nome1': aprovados['nome1'], 'CEP': aprovados['CEP'], 'aprovados':'aprovados'})"
   ]
  },
  {
   "cell_type": "code",
   "execution_count": 47,
   "metadata": {
    "ExecuteTime": {
     "end_time": "2020-07-10T22:26:06.591698Z",
     "start_time": "2020-07-10T22:26:06.581726Z"
    }
   },
   "outputs": [],
   "source": [
    "df_inner = pd.merge(reprovados, aprov, on=['CEP','nome1'], how='inner')"
   ]
  },
  {
   "cell_type": "code",
   "execution_count": 48,
   "metadata": {
    "ExecuteTime": {
     "end_time": "2020-07-10T22:26:07.066400Z",
     "start_time": "2020-07-10T22:26:07.061412Z"
    }
   },
   "outputs": [],
   "source": [
    "falso = df_inner.shape[0]\n",
    "total_rep = reprovados.shape[0]"
   ]
  },
  {
   "cell_type": "code",
   "execution_count": 49,
   "metadata": {
    "ExecuteTime": {
     "end_time": "2020-07-10T22:26:07.659282Z",
     "start_time": "2020-07-10T22:26:07.654294Z"
    }
   },
   "outputs": [
    {
     "name": "stdout",
     "output_type": "stream",
     "text": [
      "Taxa % de falso positivo : 1.2987012987012987\n"
     ]
    }
   ],
   "source": [
    "print('Taxa % de falso positivo :', falso/total_rep*100)"
   ]
  },
  {
   "cell_type": "markdown",
   "metadata": {},
   "source": [
    "# Formule uma resposta explicando o perfil do ataque observado para o cliente (Lojista: Konduto123).\n"
   ]
  },
  {
   "cell_type": "code",
   "execution_count": 59,
   "metadata": {
    "ExecuteTime": {
     "end_time": "2020-07-10T22:32:32.615886Z",
     "start_time": "2020-07-10T22:32:32.479628Z"
    }
   },
   "outputs": [
    {
     "data": {
      "text/plain": [
       "<matplotlib.axes._subplots.AxesSubplot at 0x1c36be1c9c8>"
      ]
     },
     "execution_count": 59,
     "metadata": {},
     "output_type": "execute_result"
    },
    {
     "data": {
      "image/png": "[encoded data removed]",
      "text/plain": [
       "<Figure size 432x288 with 1 Axes>"
      ]
     },
     "metadata": {
      "needs_background": "light"
     },
     "output_type": "display_data"
    }
   ],
   "source": [
    "pd.Series(fraude['cidade']).value_counts().head(10).plot(kind='bar', color='magenta')"
   ]
  },
  {
   "cell_type": "code",
   "execution_count": 60,
   "metadata": {
    "ExecuteTime": {
     "end_time": "2020-07-10T22:33:54.986718Z",
     "start_time": "2020-07-10T22:33:54.974750Z"
    }
   },
   "outputs": [
    {
     "data": {
      "text/plain": [
       "São Paulo           234\n",
       "Aracaju              52\n",
       "Rio de Janeiro       34\n",
       "Salvador              6\n",
       "Brasília              5\n",
       "                   ... \n",
       "Itabira               1\n",
       "São Bento do Sul      1\n",
       "Gravataí              1\n",
       "Lençóis Paulista      1\n",
       "Janaúba               1\n",
       "Name: cidade, Length: 66, dtype: int64"
      ]
     },
     "execution_count": 60,
     "metadata": {},
     "output_type": "execute_result"
    }
   ],
   "source": [
    "fraude['cidade'].value_counts()"
   ]
  },
  {
   "cell_type": "markdown",
   "metadata": {},
   "source": [
    "<b>Ao analisar o gráfico e a tabela acima, podemos observar que os principais ataques estão vindo da cidade São Paulo, totalizando 234 ataques.<b>"
   ]
  },
  {
   "cell_type": "markdown",
   "metadata": {},
   "source": [
    "# O que a querie abaixo fará? Faça uma simulação do resultado dela com 20 linhas de dados. "
   ]
  },
  {
   "cell_type": "code",
   "execution_count": 23,
   "metadata": {
    "ExecuteTime": {
     "end_time": "2020-07-10T22:10:36.404011Z",
     "start_time": "2020-07-10T22:10:36.325660Z"
    }
   },
   "outputs": [
    {
     "ename": "SyntaxError",
     "evalue": "invalid syntax (<ipython-input-23-ec49f5249486>, line 1)",
     "output_type": "error",
     "traceback": [
      "\u001b[1;36m  File \u001b[1;32m\"<ipython-input-23-ec49f5249486>\"\u001b[1;36m, line \u001b[1;32m1\u001b[0m\n\u001b[1;33m    select ROW_NUMBER() OVER(ORDER BY tl.loja_name asc) AS \"Linha\",\u001b[0m\n\u001b[1;37m                    ^\u001b[0m\n\u001b[1;31mSyntaxError\u001b[0m\u001b[1;31m:\u001b[0m invalid syntax\n"
     ]
    }
   ],
   "source": [
    "select ROW_NUMBER() OVER(ORDER BY tl.loja_name asc) AS \"Linha\",\n",
    "tl.loja_name as \"Nome da Loja\",\n",
    "        calcs.loja_id,\n",
    "        calcs.\"Transações Hoje\",\n",
    "        calcs.\"Transações D-1º dia\",\n",
    "        calcs.\"Variação % D0 vs D-1\",\n",
    "        calcs.\"Transações Semana Atual\",\n",
    "        calcs.\"Transações Semana-1\",\n",
    "        calcs.\"Variação % S0 vs S-1\"\n",
    "        from (select loja_id,\n",
    "                     D0 as \"Transações Hoje\",\n",
    "                     D1 as \"Transações D-1º dia\",\n",
    "                     (D0 - D1) as \"Dif D0 - D1\",\n",
    "                     (case when D1 = 0 then null else D1 end) as \"If D1 0 = null\",\n",
    "                     (\"Dif D0 - D1\"::float/\"If D1 0 = null\")*100  as \"Variação % D0 vs D-1\",\n",
    "                     S0 as \"Transações Semana Atual\",\n",
    "                     S1 as \"Transações Semana-1\",\n",
    "                     (S0 - S1) as \"Dif S0 - S1\",\n",
    "                     (case when S1 = 0 then null else S1 end) as \"If S1 0 = null\",\n",
    "                     (\"Dif S0 - S1\"::float/\"If S1 0 = null\")*100  as \"Variação % S0 vs S-1\"\n",
    "                     from (select loja_id,\n",
    "                               sum(case when data_criação_pedido BETWEEN (getdate() - INTERVAL '1 day') and (getdate() - INTERVAL '0 day') then 1 else 0 end) D0,\n",
    "                               sum(case when data_criação_pedido BETWEEN (getdate() - INTERVAL '2 day') and (getdate() - INTERVAL '1 day') then 1 else 0 end) D1,\n",
    "                               sum(case when data_criação_pedido BETWEEN (getdate() - INTERVAL '7 day') and (getdate() then 1 else 0 end) S0,\n",
    "                               sum(case when data_criação_pedido BETWEEN (getdate() - INTERVAL '14 day') and (getdate() - INTERVAL '7 day') then 1 else 0 end) S1\n",
    "                        from tabela_pedidos\n",
    "                        join  (select loja_id as loja,\n",
    "                                count(*) as num_pedidos\n",
    "                                from tabela_pedidos \n",
    "            \t\t\t\t\twhere status_id = 300 -- Nº 300 é o ID de aprovação \n",
    "            \t\t\t\t\tand data_criação_pedido > getdate() - interval '15 day'\n",
    "            \t\t\t\t\tgroup by loja\n",
    "            \t\t\t\t\torder by num_pedidos desc\n",
    "            \t\t\t\t\tlimit 200\n",
    "            \t\t\t\t  ) geral on geral.loja = tabela_pedidos.loja_id\n",
    "                        where data_criação_pedido > (getdate() - interval '15 day')\n",
    "                        group by loja_id\n",
    "                        ) AS stats\n",
    "                ) AS calcs \n",
    "join tabela_lojas tl on tl.loja_id = calcs.loja_id\n",
    "order by \"Variação % D0 vs D-1\" desc"
   ]
  },
  {
   "cell_type": "code",
   "execution_count": null,
   "metadata": {},
   "outputs": [],
   "source": [
    "tabela_pedidos = "
   ]
  },
  {
   "cell_type": "markdown",
   "metadata": {},
   "source": [
    "# Como Analistas de Dados, precisamos estar em contato direto com diferentes estilos de dados de origem, com diferentes tipos de formatação. Suponha que você acabou de receber o arquivo CSV abaixo de um Business Analyst, contendo uma relação transacional com os IDs de pedidos, a loja inerente a estes pedidos e o Valor de tais transações. Utilizando a biblioteca Pandas do Python, descreva um código que poderia ser utilizado para efetuar a leitura correta dos dados, tendo em vista que os IDs deverão ser entendidos como caracteres (Strings) e os valores como valores decimais.\"\n"
   ]
  },
  {
   "cell_type": "code",
   "execution_count": null,
   "metadata": {},
   "outputs": [],
   "source": []
  },
  {
   "cell_type": "code",
   "execution_count": null,
   "metadata": {},
   "outputs": [],
   "source": []
  }
 ],
 "metadata": {
  "kernelspec": {
   "display_name": "Python 3",
   "language": "python",
   "name": "python3"
  },
  "language_info": {
   "codemirror_mode": {
    "name": "ipython",
    "version": 3
   },
   "file_extension": ".py",
   "mimetype": "text/x-python",
   "name": "python",
   "nbconvert_exporter": "python",
   "pygments_lexer": "ipython3",
   "version": "3.7.6"
  },
  "nbTranslate": {
   "displayLangs": [
    "*"
   ],
   "hotkey": "alt-t",
   "langInMainMenu": true,
   "sourceLang": "en",
   "targetLang": "fr",
   "useGoogleTranslate": true
  },
  "toc": {
   "base_numbering": 1,
   "nav_menu": {},
   "number_sections": true,
   "sideBar": true,
   "skip_h1_title": false,
   "title_cell": "Table of Contents",
   "title_sidebar": "Contents",
   "toc_cell": false,
   "toc_position": {},
   "toc_section_display": true,
   "toc_window_display": false
  }
 },
 "nbformat": 4,
 "nbformat_minor": 4
}
