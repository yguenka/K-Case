{
 "cells": [
  {
   "cell_type": "markdown",
   "metadata": {},
   "source": [
    "<b><u>Bibliotecas utilizadas</b></u>"
   ]
  },
  {
   "cell_type": "code",
   "execution_count": 83,
   "metadata": {
    "ExecuteTime": {
     "end_time": "2020-07-12T16:50:12.515853Z",
     "start_time": "2020-07-12T16:50:12.499046Z"
    }
   },
   "outputs": [],
   "source": [
    "import pandas as pd\n",
    "import matplotlib.pyplot as plt\n",
    "import seaborn as sns\n",
    "import folium\n",
    "import random\n",
    "from random import randint\n",
    "import numpy as np"
   ]
  },
  {
   "cell_type": "markdown",
   "metadata": {},
   "source": [
    "<b><u>O objetivo</b></u>\n",
    "\n",
    "Tivemos um ataque na loja e o objetivo final da equipe é criar/melhorar um modelo que consiga conter o ataque caso tenhamos dados suficientes para a execução dessa tarefa, mas até lá, você precisa atuar rapidamente encontrando uma solução que ajude a estancar o ataque, para isso será necessário usar os dados a seu favor para encontrar a melhor solução. \n",
    "\n",
    "<b><u>Os dados</b></u>\n",
    "\n",
    "Na planilha `Teste_Konduto123_1.xlsx`, você encontrará os dados transacionais relacionados ao ataque. Com isso, precisamos que você olhe e nos traga insumos sobre: \n"
   ]
  },
  {
   "cell_type": "markdown",
   "metadata": {},
   "source": [
    "# Quantos % das vendas foram aprovadas pelo sistema? \n",
    "\n",
    "OBS: Nesse caso, a recomendação é o que o modelo propõe e o status é a decisão final, que pode ser influenciado por regras por exemplo: Modelo aprovou, mas existia uma regra de valor que tem intuito para negar, então o pedido será negado. Mas nem sempre o status é baseado por regra, pode ser baseado como o status da decisão do modelo também, por exemplo: Recomendação: Aprovado e Status Aprovado. "
   ]
  },
  {
   "cell_type": "code",
   "execution_count": 2,
   "metadata": {
    "ExecuteTime": {
     "end_time": "2020-07-12T13:57:16.987507Z",
     "start_time": "2020-07-12T13:57:16.194171Z"
    }
   },
   "outputs": [],
   "source": [
    "df = pd.read_excel('Teste_Konduto123_1.xlsx')"
   ]
  },
  {
   "cell_type": "code",
   "execution_count": 3,
   "metadata": {
    "ExecuteTime": {
     "end_time": "2020-07-12T13:57:17.013703Z",
     "start_time": "2020-07-12T13:57:16.994231Z"
    }
   },
   "outputs": [],
   "source": [
    "total = df.shape[0]"
   ]
  },
  {
   "cell_type": "code",
   "execution_count": 4,
   "metadata": {
    "ExecuteTime": {
     "end_time": "2020-07-12T13:57:17.125131Z",
     "start_time": "2020-07-12T13:57:17.025479Z"
    }
   },
   "outputs": [
    {
     "data": {
      "text/plain": [
       "array(['decline', 'approve'], dtype=object)"
      ]
     },
     "execution_count": 4,
     "metadata": {},
     "output_type": "execute_result"
    }
   ],
   "source": [
    "df['recomendação'].unique()"
   ]
  },
  {
   "cell_type": "code",
   "execution_count": 5,
   "metadata": {
    "ExecuteTime": {
     "end_time": "2020-07-12T13:57:17.238489Z",
     "start_time": "2020-07-12T13:57:17.127863Z"
    }
   },
   "outputs": [
    {
     "data": {
      "text/plain": [
       "array(['declined', 'approved'], dtype=object)"
      ]
     },
     "execution_count": 5,
     "metadata": {},
     "output_type": "execute_result"
    }
   ],
   "source": [
    "df['status'].unique()"
   ]
  },
  {
   "cell_type": "code",
   "execution_count": 6,
   "metadata": {
    "ExecuteTime": {
     "end_time": "2020-07-12T13:57:17.374512Z",
     "start_time": "2020-07-12T13:57:17.250429Z"
    }
   },
   "outputs": [],
   "source": [
    "mask = (df['recomendação'] == 'approve') & (df['status'] == 'approved')\n",
    "aprovados = df[mask].shape[0]"
   ]
  },
  {
   "cell_type": "code",
   "execution_count": 7,
   "metadata": {
    "ExecuteTime": {
     "end_time": "2020-07-12T13:57:17.480045Z",
     "start_time": "2020-07-12T13:57:17.380140Z"
    }
   },
   "outputs": [
    {
     "name": "stdout",
     "output_type": "stream",
     "text": [
      "% de aprovados pelo sistema: 7.6\n"
     ]
    }
   ],
   "source": [
    "print('% de aprovados pelo sistema:', aprovados/total*100)"
   ]
  },
  {
   "cell_type": "markdown",
   "metadata": {},
   "source": [
    "# Qual a taxa % de tentativa de fraude que foi barrado? \n",
    "\n",
    "Aqui, você precisa encontrar o perfil da fraude para encontrar o % de tentativa de fraude barrado. \n"
   ]
  },
  {
   "cell_type": "code",
   "execution_count": 8,
   "metadata": {
    "ExecuteTime": {
     "end_time": "2020-07-12T13:57:17.559947Z",
     "start_time": "2020-07-12T13:57:17.489262Z"
    }
   },
   "outputs": [],
   "source": [
    "df['status'] = df['status'].replace('approved','0').replace('declined','1').astype(int)"
   ]
  },
  {
   "cell_type": "code",
   "execution_count": 9,
   "metadata": {
    "ExecuteTime": {
     "end_time": "2020-07-12T13:57:17.805747Z",
     "start_time": "2020-07-12T13:57:17.568760Z"
    }
   },
   "outputs": [
    {
     "data": {
      "text/html": [
       "<div>\n",
       "<style scoped>\n",
       "    .dataframe tbody tr th:only-of-type {\n",
       "        vertical-align: middle;\n",
       "    }\n",
       "\n",
       "    .dataframe tbody tr th {\n",
       "        vertical-align: top;\n",
       "    }\n",
       "\n",
       "    .dataframe thead th {\n",
       "        text-align: right;\n",
       "    }\n",
       "</style>\n",
       "<table border=\"1\" class=\"dataframe\">\n",
       "  <thead>\n",
       "    <tr style=\"text-align: right;\">\n",
       "      <th></th>\n",
       "      <th>data_pedido</th>\n",
       "      <th>order_id</th>\n",
       "      <th>recomendação</th>\n",
       "      <th>status</th>\n",
       "      <th>valor</th>\n",
       "      <th>score</th>\n",
       "      <th>ip</th>\n",
       "      <th>email</th>\n",
       "      <th>nome</th>\n",
       "      <th>device_id</th>\n",
       "      <th>telefone</th>\n",
       "      <th>endereço</th>\n",
       "      <th>CEP</th>\n",
       "      <th>cidade</th>\n",
       "      <th>estado</th>\n",
       "    </tr>\n",
       "  </thead>\n",
       "  <tbody>\n",
       "    <tr>\n",
       "      <th>0</th>\n",
       "      <td>2020-04-26</td>\n",
       "      <td>1</td>\n",
       "      <td>decline</td>\n",
       "      <td>1</td>\n",
       "      <td>335.16</td>\n",
       "      <td>0.00</td>\n",
       "      <td>NaN</td>\n",
       "      <td>aaraonovaes23@gmail.com</td>\n",
       "      <td>Aarão Novaes</td>\n",
       "      <td>NaN</td>\n",
       "      <td>5568229838958</td>\n",
       "      <td>Rua B - Loteamento Altos do São Gonçalo</td>\n",
       "      <td>78094628</td>\n",
       "      <td>Cuiabá</td>\n",
       "      <td>MT</td>\n",
       "    </tr>\n",
       "    <tr>\n",
       "      <th>1</th>\n",
       "      <td>2020-04-27</td>\n",
       "      <td>2</td>\n",
       "      <td>decline</td>\n",
       "      <td>1</td>\n",
       "      <td>13.18</td>\n",
       "      <td>0.22</td>\n",
       "      <td>NaN</td>\n",
       "      <td>aarotfruf4omhairp5dd0n8h3n6al@yahoo.com</td>\n",
       "      <td>Abel Motta</td>\n",
       "      <td>NaN</td>\n",
       "      <td>554068852436191</td>\n",
       "      <td>Praça General Araripe de Faria - Vila Gomes</td>\n",
       "      <td>5590020</td>\n",
       "      <td>São Paulo</td>\n",
       "      <td>SP</td>\n",
       "    </tr>\n",
       "    <tr>\n",
       "      <th>2</th>\n",
       "      <td>2020-04-27</td>\n",
       "      <td>3</td>\n",
       "      <td>decline</td>\n",
       "      <td>1</td>\n",
       "      <td>13.18</td>\n",
       "      <td>0.90</td>\n",
       "      <td>NaN</td>\n",
       "      <td>oh54fdhara0dornaurftni8a6ml3p@yahoo.com</td>\n",
       "      <td>Abel Palmeira</td>\n",
       "      <td>NaN</td>\n",
       "      <td>550897009993889</td>\n",
       "      <td>Praça General Araripe de Faria - Vila Gomes</td>\n",
       "      <td>5590020</td>\n",
       "      <td>São Paulo</td>\n",
       "      <td>SP</td>\n",
       "    </tr>\n",
       "    <tr>\n",
       "      <th>3</th>\n",
       "      <td>2020-05-04</td>\n",
       "      <td>4</td>\n",
       "      <td>decline</td>\n",
       "      <td>1</td>\n",
       "      <td>13.18</td>\n",
       "      <td>0.96</td>\n",
       "      <td>NaN</td>\n",
       "      <td>swwyuj5fxegudyiktkhbcfee8d7wi8@yahoo.com</td>\n",
       "      <td>Abel Thomé</td>\n",
       "      <td>NaN</td>\n",
       "      <td>557373826060780</td>\n",
       "      <td>Praça General Araripe de Faria - Vila Gomes</td>\n",
       "      <td>5590020</td>\n",
       "      <td>São Paulo</td>\n",
       "      <td>SP</td>\n",
       "    </tr>\n",
       "    <tr>\n",
       "      <th>4</th>\n",
       "      <td>2020-05-01</td>\n",
       "      <td>5</td>\n",
       "      <td>decline</td>\n",
       "      <td>1</td>\n",
       "      <td>96.97</td>\n",
       "      <td>0.00</td>\n",
       "      <td>NaN</td>\n",
       "      <td>abelvillegas@gmail.com</td>\n",
       "      <td>Abel Villégas</td>\n",
       "      <td>NaN</td>\n",
       "      <td>557176579579867</td>\n",
       "      <td>Rua Dom Pedro I - Nova Itapira</td>\n",
       "      <td>13974250</td>\n",
       "      <td>Itapira</td>\n",
       "      <td>SP</td>\n",
       "    </tr>\n",
       "    <tr>\n",
       "      <th>...</th>\n",
       "      <td>...</td>\n",
       "      <td>...</td>\n",
       "      <td>...</td>\n",
       "      <td>...</td>\n",
       "      <td>...</td>\n",
       "      <td>...</td>\n",
       "      <td>...</td>\n",
       "      <td>...</td>\n",
       "      <td>...</td>\n",
       "      <td>...</td>\n",
       "      <td>...</td>\n",
       "      <td>...</td>\n",
       "      <td>...</td>\n",
       "      <td>...</td>\n",
       "      <td>...</td>\n",
       "    </tr>\n",
       "    <tr>\n",
       "      <th>457</th>\n",
       "      <td>2020-05-04</td>\n",
       "      <td>630</td>\n",
       "      <td>decline</td>\n",
       "      <td>1</td>\n",
       "      <td>21.25</td>\n",
       "      <td>0.50</td>\n",
       "      <td>NaN</td>\n",
       "      <td>etwdbeui8shwduyckfjg7ey8ikx5fw@yahoo.com</td>\n",
       "      <td>Jonas Souza</td>\n",
       "      <td>NaN</td>\n",
       "      <td>5504445868915</td>\n",
       "      <td>Praça General Araripe de Faria - Vila Gomes</td>\n",
       "      <td>5590020</td>\n",
       "      <td>São Paulo</td>\n",
       "      <td>SP</td>\n",
       "    </tr>\n",
       "    <tr>\n",
       "      <th>458</th>\n",
       "      <td>2020-04-24</td>\n",
       "      <td>631</td>\n",
       "      <td>decline</td>\n",
       "      <td>1</td>\n",
       "      <td>22.85</td>\n",
       "      <td>0.65</td>\n",
       "      <td>NaN</td>\n",
       "      <td>nokef19470@itiomail.com</td>\n",
       "      <td>Jordana Aires</td>\n",
       "      <td>NaN</td>\n",
       "      <td>55461658545670</td>\n",
       "      <td>Avenida Presidente Tancredo Neves - Jabotiana</td>\n",
       "      <td>49095000</td>\n",
       "      <td>Aracaju</td>\n",
       "      <td>SE</td>\n",
       "    </tr>\n",
       "    <tr>\n",
       "      <th>459</th>\n",
       "      <td>2020-04-28</td>\n",
       "      <td>632</td>\n",
       "      <td>decline</td>\n",
       "      <td>1</td>\n",
       "      <td>21.26</td>\n",
       "      <td>0.62</td>\n",
       "      <td>NaN</td>\n",
       "      <td>s3fgrh8pju0ceheeb47@yahoo.com</td>\n",
       "      <td>Jordana Godinho</td>\n",
       "      <td>NaN</td>\n",
       "      <td>557498300858448</td>\n",
       "      <td>Praça General Araripe de Faria - Vila Gomes</td>\n",
       "      <td>5590020</td>\n",
       "      <td>São Paulo</td>\n",
       "      <td>SP</td>\n",
       "    </tr>\n",
       "    <tr>\n",
       "      <th>460</th>\n",
       "      <td>2020-04-24</td>\n",
       "      <td>633</td>\n",
       "      <td>decline</td>\n",
       "      <td>1</td>\n",
       "      <td>41.33</td>\n",
       "      <td>0.57</td>\n",
       "      <td>NaN</td>\n",
       "      <td>nokef8924@itiomail.com</td>\n",
       "      <td>Jordana Mieiro</td>\n",
       "      <td>NaN</td>\n",
       "      <td>55040563049405</td>\n",
       "      <td>Avenida Presidente Tancredo Neves - Jabotiana</td>\n",
       "      <td>49095000</td>\n",
       "      <td>Aracaju</td>\n",
       "      <td>SE</td>\n",
       "    </tr>\n",
       "    <tr>\n",
       "      <th>461</th>\n",
       "      <td>2020-04-29</td>\n",
       "      <td>634</td>\n",
       "      <td>decline</td>\n",
       "      <td>1</td>\n",
       "      <td>13.68</td>\n",
       "      <td>0.93</td>\n",
       "      <td>NaN</td>\n",
       "      <td>x657pf3jgcsyo8svlfswd@yahoo.com</td>\n",
       "      <td>Jordana Picanço</td>\n",
       "      <td>NaN</td>\n",
       "      <td>5502418059035</td>\n",
       "      <td>Avenida das Américas - Recreio dos Bandeirantes</td>\n",
       "      <td>22790701</td>\n",
       "      <td>São Paulo</td>\n",
       "      <td>RJ</td>\n",
       "    </tr>\n",
       "  </tbody>\n",
       "</table>\n",
       "<p>462 rows × 15 columns</p>\n",
       "</div>"
      ],
      "text/plain": [
       "    data_pedido  order_id recomendação  status   valor  score  ip  \\\n",
       "0    2020-04-26         1      decline       1  335.16   0.00 NaN   \n",
       "1    2020-04-27         2      decline       1   13.18   0.22 NaN   \n",
       "2    2020-04-27         3      decline       1   13.18   0.90 NaN   \n",
       "3    2020-05-04         4      decline       1   13.18   0.96 NaN   \n",
       "4    2020-05-01         5      decline       1   96.97   0.00 NaN   \n",
       "..          ...       ...          ...     ...     ...    ...  ..   \n",
       "457  2020-05-04       630      decline       1   21.25   0.50 NaN   \n",
       "458  2020-04-24       631      decline       1   22.85   0.65 NaN   \n",
       "459  2020-04-28       632      decline       1   21.26   0.62 NaN   \n",
       "460  2020-04-24       633      decline       1   41.33   0.57 NaN   \n",
       "461  2020-04-29       634      decline       1   13.68   0.93 NaN   \n",
       "\n",
       "                                        email             nome  device_id  \\\n",
       "0                     aaraonovaes23@gmail.com     Aarão Novaes        NaN   \n",
       "1     aarotfruf4omhairp5dd0n8h3n6al@yahoo.com       Abel Motta        NaN   \n",
       "2     oh54fdhara0dornaurftni8a6ml3p@yahoo.com    Abel Palmeira        NaN   \n",
       "3    swwyuj5fxegudyiktkhbcfee8d7wi8@yahoo.com       Abel Thomé        NaN   \n",
       "4                      abelvillegas@gmail.com    Abel Villégas        NaN   \n",
       "..                                        ...              ...        ...   \n",
       "457  etwdbeui8shwduyckfjg7ey8ikx5fw@yahoo.com      Jonas Souza        NaN   \n",
       "458                   nokef19470@itiomail.com    Jordana Aires        NaN   \n",
       "459             s3fgrh8pju0ceheeb47@yahoo.com  Jordana Godinho        NaN   \n",
       "460                    nokef8924@itiomail.com   Jordana Mieiro        NaN   \n",
       "461           x657pf3jgcsyo8svlfswd@yahoo.com  Jordana Picanço        NaN   \n",
       "\n",
       "            telefone                                         endereço  \\\n",
       "0      5568229838958          Rua B - Loteamento Altos do São Gonçalo   \n",
       "1    554068852436191      Praça General Araripe de Faria - Vila Gomes   \n",
       "2    550897009993889      Praça General Araripe de Faria - Vila Gomes   \n",
       "3    557373826060780      Praça General Araripe de Faria - Vila Gomes   \n",
       "4    557176579579867                   Rua Dom Pedro I - Nova Itapira   \n",
       "..               ...                                              ...   \n",
       "457    5504445868915      Praça General Araripe de Faria - Vila Gomes   \n",
       "458   55461658545670    Avenida Presidente Tancredo Neves - Jabotiana   \n",
       "459  557498300858448      Praça General Araripe de Faria - Vila Gomes   \n",
       "460   55040563049405    Avenida Presidente Tancredo Neves - Jabotiana   \n",
       "461    5502418059035  Avenida das Américas - Recreio dos Bandeirantes   \n",
       "\n",
       "          CEP    cidade  estado  \n",
       "0    78094628     Cuiabá     MT  \n",
       "1     5590020  São Paulo     SP  \n",
       "2     5590020  São Paulo     SP  \n",
       "3     5590020  São Paulo     SP  \n",
       "4    13974250    Itapira     SP  \n",
       "..        ...        ...    ...  \n",
       "457   5590020  São Paulo     SP  \n",
       "458  49095000    Aracaju     SE  \n",
       "459   5590020  São Paulo     SP  \n",
       "460  49095000    Aracaju     SE  \n",
       "461  22790701  São Paulo     RJ  \n",
       "\n",
       "[462 rows x 15 columns]"
      ]
     },
     "execution_count": 9,
     "metadata": {},
     "output_type": "execute_result"
    }
   ],
   "source": [
    "mask_rep = (df['recomendação'] == 'decline')\n",
    "reprovados = df[mask_rep].reset_index(drop=True)\n",
    "reprovados"
   ]
  },
  {
   "cell_type": "code",
   "execution_count": 10,
   "metadata": {
    "ExecuteTime": {
     "end_time": "2020-07-12T13:57:18.025216Z",
     "start_time": "2020-07-12T13:57:17.817992Z"
    }
   },
   "outputs": [
    {
     "name": "stderr",
     "output_type": "stream",
     "text": [
      "C:\\Users\\yukar\\anaconda3\\lib\\site-packages\\ipykernel_launcher.py:3: SettingWithCopyWarning: \n",
      "A value is trying to be set on a copy of a slice from a DataFrame\n",
      "\n",
      "See the caveats in the documentation: https://pandas.pydata.org/pandas-docs/stable/user_guide/indexing.html#returning-a-view-versus-a-copy\n",
      "  This is separate from the ipykernel package so we can avoid doing imports until\n"
     ]
    }
   ],
   "source": [
    "reprovados['nome1'] = \"Nome\"\n",
    "for nome in range(0,462):\n",
    "    reprovados['nome1'][nome] = reprovados['nome'][nome].split(' ')[0]"
   ]
  },
  {
   "cell_type": "code",
   "execution_count": 11,
   "metadata": {
    "ExecuteTime": {
     "end_time": "2020-07-12T13:57:18.095370Z",
     "start_time": "2020-07-12T13:57:18.028001Z"
    }
   },
   "outputs": [],
   "source": [
    "fraude = pd.DataFrame(data={'nome': reprovados['nome1'], 'CEP': reprovados['CEP'], 'endereço': reprovados['endereço'], \n",
    "                            'cidade':reprovados['cidade '], 'status':reprovados['status']}).drop_duplicates().reset_index(drop=True)"
   ]
  },
  {
   "cell_type": "code",
   "execution_count": 12,
   "metadata": {
    "ExecuteTime": {
     "end_time": "2020-07-12T13:57:18.155574Z",
     "start_time": "2020-07-12T13:57:18.100828Z"
    }
   },
   "outputs": [
    {
     "data": {
      "text/html": [
       "<div>\n",
       "<style scoped>\n",
       "    .dataframe tbody tr th:only-of-type {\n",
       "        vertical-align: middle;\n",
       "    }\n",
       "\n",
       "    .dataframe tbody tr th {\n",
       "        vertical-align: top;\n",
       "    }\n",
       "\n",
       "    .dataframe thead th {\n",
       "        text-align: right;\n",
       "    }\n",
       "</style>\n",
       "<table border=\"1\" class=\"dataframe\">\n",
       "  <thead>\n",
       "    <tr style=\"text-align: right;\">\n",
       "      <th></th>\n",
       "      <th>nome</th>\n",
       "      <th>CEP</th>\n",
       "      <th>endereço</th>\n",
       "      <th>cidade</th>\n",
       "      <th>status</th>\n",
       "    </tr>\n",
       "  </thead>\n",
       "  <tbody>\n",
       "    <tr>\n",
       "      <th>0</th>\n",
       "      <td>Aarão</td>\n",
       "      <td>78094628</td>\n",
       "      <td>Rua B - Loteamento Altos do São Gonçalo</td>\n",
       "      <td>Cuiabá</td>\n",
       "      <td>1</td>\n",
       "    </tr>\n",
       "    <tr>\n",
       "      <th>1</th>\n",
       "      <td>Abel</td>\n",
       "      <td>5590020</td>\n",
       "      <td>Praça General Araripe de Faria - Vila Gomes</td>\n",
       "      <td>São Paulo</td>\n",
       "      <td>1</td>\n",
       "    </tr>\n",
       "    <tr>\n",
       "      <th>2</th>\n",
       "      <td>Abel</td>\n",
       "      <td>13974250</td>\n",
       "      <td>Rua Dom Pedro I - Nova Itapira</td>\n",
       "      <td>Itapira</td>\n",
       "      <td>1</td>\n",
       "    </tr>\n",
       "    <tr>\n",
       "      <th>3</th>\n",
       "      <td>Abraão</td>\n",
       "      <td>22790701</td>\n",
       "      <td>Avenida das Américas - Recreio dos Bandeirantes</td>\n",
       "      <td>São Paulo</td>\n",
       "      <td>1</td>\n",
       "    </tr>\n",
       "    <tr>\n",
       "      <th>4</th>\n",
       "      <td>Abraão</td>\n",
       "      <td>5590020</td>\n",
       "      <td>Praça General Araripe de Faria - Vila Gomes</td>\n",
       "      <td>São Paulo</td>\n",
       "      <td>1</td>\n",
       "    </tr>\n",
       "    <tr>\n",
       "      <th>...</th>\n",
       "      <td>...</td>\n",
       "      <td>...</td>\n",
       "      <td>...</td>\n",
       "      <td>...</td>\n",
       "      <td>...</td>\n",
       "    </tr>\n",
       "    <tr>\n",
       "      <th>411</th>\n",
       "      <td>Jonas</td>\n",
       "      <td>5590020</td>\n",
       "      <td>Praça General Araripe de Faria - Vila Gomes</td>\n",
       "      <td>Piracicaba</td>\n",
       "      <td>1</td>\n",
       "    </tr>\n",
       "    <tr>\n",
       "      <th>412</th>\n",
       "      <td>Jonas</td>\n",
       "      <td>5590020</td>\n",
       "      <td>Praça General Araripe de Faria - Vila Gomes</td>\n",
       "      <td>São Paulo</td>\n",
       "      <td>1</td>\n",
       "    </tr>\n",
       "    <tr>\n",
       "      <th>413</th>\n",
       "      <td>Jordana</td>\n",
       "      <td>49095000</td>\n",
       "      <td>Avenida Presidente Tancredo Neves - Jabotiana</td>\n",
       "      <td>Aracaju</td>\n",
       "      <td>1</td>\n",
       "    </tr>\n",
       "    <tr>\n",
       "      <th>414</th>\n",
       "      <td>Jordana</td>\n",
       "      <td>5590020</td>\n",
       "      <td>Praça General Araripe de Faria - Vila Gomes</td>\n",
       "      <td>São Paulo</td>\n",
       "      <td>1</td>\n",
       "    </tr>\n",
       "    <tr>\n",
       "      <th>415</th>\n",
       "      <td>Jordana</td>\n",
       "      <td>22790701</td>\n",
       "      <td>Avenida das Américas - Recreio dos Bandeirantes</td>\n",
       "      <td>São Paulo</td>\n",
       "      <td>1</td>\n",
       "    </tr>\n",
       "  </tbody>\n",
       "</table>\n",
       "<p>416 rows × 5 columns</p>\n",
       "</div>"
      ],
      "text/plain": [
       "        nome       CEP                                         endereço  \\\n",
       "0      Aarão  78094628          Rua B - Loteamento Altos do São Gonçalo   \n",
       "1       Abel   5590020      Praça General Araripe de Faria - Vila Gomes   \n",
       "2       Abel  13974250                   Rua Dom Pedro I - Nova Itapira   \n",
       "3     Abraão  22790701  Avenida das Américas - Recreio dos Bandeirantes   \n",
       "4     Abraão   5590020      Praça General Araripe de Faria - Vila Gomes   \n",
       "..       ...       ...                                              ...   \n",
       "411    Jonas   5590020      Praça General Araripe de Faria - Vila Gomes   \n",
       "412    Jonas   5590020      Praça General Araripe de Faria - Vila Gomes   \n",
       "413  Jordana  49095000    Avenida Presidente Tancredo Neves - Jabotiana   \n",
       "414  Jordana   5590020      Praça General Araripe de Faria - Vila Gomes   \n",
       "415  Jordana  22790701  Avenida das Américas - Recreio dos Bandeirantes   \n",
       "\n",
       "         cidade  status  \n",
       "0        Cuiabá       1  \n",
       "1     São Paulo       1  \n",
       "2       Itapira       1  \n",
       "3     São Paulo       1  \n",
       "4     São Paulo       1  \n",
       "..          ...     ...  \n",
       "411  Piracicaba       1  \n",
       "412   São Paulo       1  \n",
       "413     Aracaju       1  \n",
       "414   São Paulo       1  \n",
       "415   São Paulo       1  \n",
       "\n",
       "[416 rows x 5 columns]"
      ]
     },
     "execution_count": 12,
     "metadata": {},
     "output_type": "execute_result"
    }
   ],
   "source": [
    "fraude"
   ]
  },
  {
   "cell_type": "markdown",
   "metadata": {},
   "source": [
    "Ao analisar os dados, podemos observar que há muitos CEPs repetidos e/ou com nomes repetidos. Então ao pegar os números dos CEPs repetidos (até porque quando efetuamos a compra, temos que inserir o endereço de entrega e se for diferente, será entregue em locais diferentes) podemos enxergar a taxa de tentativa de fraudes."
   ]
  },
  {
   "cell_type": "code",
   "execution_count": 13,
   "metadata": {
    "ExecuteTime": {
     "end_time": "2020-07-12T13:57:18.225252Z",
     "start_time": "2020-07-12T13:57:18.160806Z"
    }
   },
   "outputs": [],
   "source": [
    "fraude_rep = fraude['CEP'].unique().shape[0]"
   ]
  },
  {
   "cell_type": "code",
   "execution_count": 14,
   "metadata": {
    "ExecuteTime": {
     "end_time": "2020-07-12T13:57:18.313500Z",
     "start_time": "2020-07-12T13:57:18.229414Z"
    }
   },
   "outputs": [
    {
     "name": "stdout",
     "output_type": "stream",
     "text": [
      "Taxa % de tentativa de fraude : 16.2\n"
     ]
    }
   ],
   "source": [
    "print('Taxa % de tentativa de fraude :', fraude_rep/total*100)"
   ]
  },
  {
   "cell_type": "markdown",
   "metadata": {},
   "source": [
    "# Se nao tomarmos ações, qual seria a taxa % de chargeback da loja? \n",
    "\n",
    "Assumindo que as fraudes tivessem passado e sido aprovadas pelo modelo ou regras, qual seria o % de chargeback dessa loja? \n"
   ]
  },
  {
   "cell_type": "code",
   "execution_count": 15,
   "metadata": {
    "ExecuteTime": {
     "end_time": "2020-07-12T13:57:18.395337Z",
     "start_time": "2020-07-12T13:57:18.317121Z"
    }
   },
   "outputs": [],
   "source": [
    "charge = fraude['CEP'].shape[0]"
   ]
  },
  {
   "cell_type": "code",
   "execution_count": 16,
   "metadata": {
    "ExecuteTime": {
     "end_time": "2020-07-12T13:57:18.488799Z",
     "start_time": "2020-07-12T13:57:18.398593Z"
    }
   },
   "outputs": [
    {
     "name": "stdout",
     "output_type": "stream",
     "text": [
      "Taxa % de chargeback : 83.2\n"
     ]
    }
   ],
   "source": [
    "print('Taxa % de chargeback :', charge/total*100)"
   ]
  },
  {
   "cell_type": "markdown",
   "metadata": {},
   "source": [
    "# Qual a taxa de falso positivo que barramos? \n",
    "\n",
    "Falso positivo é tudo aquilo que negamos e que teria potencial de ser o cliente, ou seja, sua tarefa é encontrar o % desses clientes barrados erroneamente. \n"
   ]
  },
  {
   "cell_type": "code",
   "execution_count": 17,
   "metadata": {
    "ExecuteTime": {
     "end_time": "2020-07-12T13:57:18.588862Z",
     "start_time": "2020-07-12T13:57:18.499962Z"
    }
   },
   "outputs": [
    {
     "name": "stderr",
     "output_type": "stream",
     "text": [
      "C:\\Users\\yukar\\anaconda3\\lib\\site-packages\\ipykernel_launcher.py:4: SettingWithCopyWarning: \n",
      "A value is trying to be set on a copy of a slice from a DataFrame\n",
      "\n",
      "See the caveats in the documentation: https://pandas.pydata.org/pandas-docs/stable/user_guide/indexing.html#returning-a-view-versus-a-copy\n",
      "  after removing the cwd from sys.path.\n"
     ]
    }
   ],
   "source": [
    "aprovados = df[mask].reset_index(drop=True)\n",
    "aprovados['nome1'] = \"Nome\"\n",
    "for nome in range(0,38):\n",
    "    aprovados['nome1'][nome] = aprovados['nome'][nome].split(' ')[0]"
   ]
  },
  {
   "cell_type": "code",
   "execution_count": 18,
   "metadata": {
    "ExecuteTime": {
     "end_time": "2020-07-12T13:57:18.672389Z",
     "start_time": "2020-07-12T13:57:18.594412Z"
    },
    "scrolled": false
   },
   "outputs": [],
   "source": [
    "aprov = pd.DataFrame(data={'nome1': aprovados['nome1'], 'CEP': aprovados['CEP'], 'aprovados':'aprovados'})"
   ]
  },
  {
   "cell_type": "code",
   "execution_count": 19,
   "metadata": {
    "ExecuteTime": {
     "end_time": "2020-07-12T13:57:18.775337Z",
     "start_time": "2020-07-12T13:57:18.677479Z"
    }
   },
   "outputs": [],
   "source": [
    "df_inner = pd.merge(reprovados, aprov, on=['CEP','nome1'], how='inner')"
   ]
  },
  {
   "cell_type": "code",
   "execution_count": 20,
   "metadata": {
    "ExecuteTime": {
     "end_time": "2020-07-12T13:57:18.874470Z",
     "start_time": "2020-07-12T13:57:18.780480Z"
    }
   },
   "outputs": [],
   "source": [
    "falso = df_inner.shape[0]\n",
    "total_rep = reprovados.shape[0]"
   ]
  },
  {
   "cell_type": "code",
   "execution_count": 21,
   "metadata": {
    "ExecuteTime": {
     "end_time": "2020-07-12T13:57:18.953091Z",
     "start_time": "2020-07-12T13:57:18.892736Z"
    }
   },
   "outputs": [
    {
     "name": "stdout",
     "output_type": "stream",
     "text": [
      "Taxa % de falso positivo : 1.2987012987012987\n"
     ]
    }
   ],
   "source": [
    "print('Taxa % de falso positivo :', falso/total_rep*100)"
   ]
  },
  {
   "cell_type": "markdown",
   "metadata": {},
   "source": [
    "# Formule uma resposta explicando o perfil do ataque observado para o cliente (Lojista: Konduto123).\n"
   ]
  },
  {
   "cell_type": "code",
   "execution_count": 22,
   "metadata": {
    "ExecuteTime": {
     "end_time": "2020-07-12T13:57:20.296965Z",
     "start_time": "2020-07-12T13:57:18.958507Z"
    }
   },
   "outputs": [
    {
     "data": {
      "text/plain": [
       "<matplotlib.axes._subplots.AxesSubplot at 0x2801c238a08>"
      ]
     },
     "execution_count": 22,
     "metadata": {},
     "output_type": "execute_result"
    },
    {
     "data": {
      "image/png": "[encoded data removed]",
      "text/plain": [
       "<Figure size 432x288 with 1 Axes>"
      ]
     },
     "metadata": {
      "needs_background": "light"
     },
     "output_type": "display_data"
    }
   ],
   "source": [
    "pd.Series(fraude['cidade']).value_counts().head(10).plot(kind='bar', color='magenta')"
   ]
  },
  {
   "cell_type": "code",
   "execution_count": 23,
   "metadata": {
    "ExecuteTime": {
     "end_time": "2020-07-12T13:57:20.344881Z",
     "start_time": "2020-07-12T13:57:20.307571Z"
    }
   },
   "outputs": [
    {
     "data": {
      "text/plain": [
       "São Paulo         234\n",
       "Aracaju            52\n",
       "Rio de Janeiro     34\n",
       "Salvador            6\n",
       "São Luís            5\n",
       "Brasília            5\n",
       "Niterói             5\n",
       "Campinas            3\n",
       "Teresina            3\n",
       "Curitiba            2\n",
       "Name: cidade, dtype: int64"
      ]
     },
     "execution_count": 23,
     "metadata": {},
     "output_type": "execute_result"
    }
   ],
   "source": [
    "fraude['cidade'].value_counts().head(10)"
   ]
  },
  {
   "cell_type": "markdown",
   "metadata": {},
   "source": [
    "<b>Ao analisar o gráfico e a tabela acima, podemos observar que os principais ataques estão vindo da cidade São Paulo, totalizando 234 ataques.<b>"
   ]
  },
  {
   "cell_type": "markdown",
   "metadata": {},
   "source": [
    "# O que a querie abaixo fará? Faça uma simulação do resultado dela com 20 linhas de dados. "
   ]
  },
  {
   "cell_type": "code",
   "execution_count": 24,
   "metadata": {
    "ExecuteTime": {
     "end_time": "2020-07-12T13:57:20.430427Z",
     "start_time": "2020-07-12T13:57:20.355934Z"
    },
    "scrolled": true
   },
   "outputs": [
    {
     "ename": "SyntaxError",
     "evalue": "invalid syntax (<ipython-input-24-ea72be2721c2>, line 1)",
     "output_type": "error",
     "traceback": [
      "\u001b[1;36m  File \u001b[1;32m\"<ipython-input-24-ea72be2721c2>\"\u001b[1;36m, line \u001b[1;32m1\u001b[0m\n\u001b[1;33m    select ROW_NUMBER() OVER(ORDER BY tl.loja_name asc) AS \"Linha\",\u001b[0m\n\u001b[1;37m                    ^\u001b[0m\n\u001b[1;31mSyntaxError\u001b[0m\u001b[1;31m:\u001b[0m invalid syntax\n"
     ]
    }
   ],
   "source": [
    "select ROW_NUMBER() OVER(ORDER BY tl.loja_name asc) AS \"Linha\",\n",
    "tl.loja_name as \"Nome da Loja\",\n",
    "        calcs.loja_id,\n",
    "        calcs.\"Transações Hoje\",\n",
    "        calcs.\"Transações D-1º dia\",\n",
    "        calcs.\"Variação % D0 vs D-1\",\n",
    "        calcs.\"Transações Semana Atual\",\n",
    "        calcs.\"Transações Semana-1\",\n",
    "        calcs.\"Variação % S0 vs S-1\"\n",
    "        from (select loja_id,\n",
    "                     D0 as \"Transações Hoje\",\n",
    "                     D1 as \"Transações D-1º dia\",\n",
    "                     (D0 - D1) as \"Dif D0 - D1\",\n",
    "                     (case when D1 = 0 then null else D1 end) as \"If D1 0 = null\",\n",
    "                     (\"Dif D0 - D1\"::float/\"If D1 0 = null\")*100  as \"Variação % D0 vs D-1\",\n",
    "                     S0 as \"Transações Semana Atual\",\n",
    "                     S1 as \"Transações Semana-1\",\n",
    "                     (S0 - S1) as \"Dif S0 - S1\",\n",
    "                     (case when S1 = 0 then null else S1 end) as \"If S1 0 = null\",\n",
    "                     (\"Dif S0 - S1\"::float/\"If S1 0 = null\")*100  as \"Variação % S0 vs S-1\"\n",
    "                     from (select loja_id,\n",
    "                               sum(case when data_criação_pedido BETWEEN (getdate() - INTERVAL '1 day') and (getdate() - INTERVAL '0 day') then 1 else 0 end) D0,\n",
    "                               sum(case when data_criação_pedido BETWEEN (getdate() - INTERVAL '2 day') and (getdate() - INTERVAL '1 day') then 1 else 0 end) D1,\n",
    "                               sum(case when data_criação_pedido BETWEEN (getdate() - INTERVAL '7 day') and (getdate() then 1 else 0 end) S0,\n",
    "                               sum(case when data_criação_pedido BETWEEN (getdate() - INTERVAL '14 day') and (getdate() - INTERVAL '7 day') then 1 else 0 end) S1\n",
    "                        from tabela_pedidos\n",
    "                        join  (select loja_id as loja,\n",
    "                                count(*) as num_pedidos\n",
    "                                from tabela_pedidos \n",
    "            \t\t\t\t\twhere status_id = 300 -- Nº 300 é o ID de aprovação \n",
    "            \t\t\t\t\tand data_criação_pedido > getdate() - interval '15 day'\n",
    "            \t\t\t\t\tgroup by loja\n",
    "            \t\t\t\t\torder by num_pedidos desc\n",
    "            \t\t\t\t\tlimit 200\n",
    "            \t\t\t\t  ) geral on geral.loja = tabela_pedidos.loja_id\n",
    "                        where data_criação_pedido > (getdate() - interval '15 day')\n",
    "                        group by loja_id\n",
    "                        ) AS stats\n",
    "                ) AS calcs \n",
    "join tabela_lojas tl on tl.loja_id = calcs.loja_id\n",
    "order by \"Variação % D0 vs D-1\" desc"
   ]
  },
  {
   "cell_type": "code",
   "execution_count": 63,
   "metadata": {
    "ExecuteTime": {
     "end_time": "2020-07-12T14:54:21.540859Z",
     "start_time": "2020-07-12T14:54:21.531880Z"
    }
   },
   "outputs": [
    {
     "name": "stdout",
     "output_type": "stream",
     "text": [
      "[4, 4, 0, 15, 9, 4, 19, 5, 15, 12, 10, 18, 17, 11, 1, 6, 2, 6, 9, 19]\n"
     ]
    }
   ],
   "source": [
    "D0 = []\n",
    "for x in range(20):\n",
    "    D0.append(random.randint(0,20))\n",
    "print(D0)"
   ]
  },
  {
   "cell_type": "code",
   "execution_count": 64,
   "metadata": {
    "ExecuteTime": {
     "end_time": "2020-07-12T14:54:27.800793Z",
     "start_time": "2020-07-12T14:54:27.792813Z"
    }
   },
   "outputs": [
    {
     "name": "stdout",
     "output_type": "stream",
     "text": [
      "[20, 14, 20, 3, 16, 6, 6, 19, 15, 19, 0, 2, 11, 13, 19, 13, 18, 10, 20, 7]\n"
     ]
    }
   ],
   "source": [
    "D1 = []\n",
    "for x in range(20):\n",
    "    D1.append(random.randint(0,20))\n",
    "print(D1)"
   ]
  },
  {
   "cell_type": "code",
   "execution_count": 65,
   "metadata": {
    "ExecuteTime": {
     "end_time": "2020-07-12T14:54:31.460673Z",
     "start_time": "2020-07-12T14:54:31.455685Z"
    }
   },
   "outputs": [
    {
     "name": "stdout",
     "output_type": "stream",
     "text": [
      "[267, 347, 856, 716, 457, 161, 916, 813, 583, 411, 98, 974, 636, 83, 856, 160, 457, 906, 226, 34]\n"
     ]
    }
   ],
   "source": [
    "S0 = []\n",
    "for x in range(20):\n",
    "    S0.append(random.randint(0,1000))\n",
    "print(S0)"
   ]
  },
  {
   "cell_type": "code",
   "execution_count": 66,
   "metadata": {
    "ExecuteTime": {
     "end_time": "2020-07-12T14:54:36.184791Z",
     "start_time": "2020-07-12T14:54:36.176813Z"
    }
   },
   "outputs": [
    {
     "name": "stdout",
     "output_type": "stream",
     "text": [
      "[128, 214, 516, 128, 450, 219, 750, 926, 648, 423, 666, 825, 691, 378, 930, 696, 410, 243, 626, 331]\n"
     ]
    }
   ],
   "source": [
    "S1 = []\n",
    "for x in range(20):\n",
    "    S1.append(random.randint(0,1000))\n",
    "print(S1)"
   ]
  },
  {
   "cell_type": "code",
   "execution_count": 70,
   "metadata": {
    "ExecuteTime": {
     "end_time": "2020-07-12T15:06:20.785075Z",
     "start_time": "2020-07-12T15:06:20.778113Z"
    }
   },
   "outputs": [
    {
     "name": "stdout",
     "output_type": "stream",
     "text": [
      "[408, 403, 299, 299, 213, 420, 109, 447, 266, 53, 348, 83, 343, 266, 184, 176, 136, 449, 423, 474]\n"
     ]
    }
   ],
   "source": [
    "loja_id = []\n",
    "for x in range(20):\n",
    "    loja_id.append(random.randint(0,500))\n",
    "print(loja_id)"
   ]
  },
  {
   "cell_type": "code",
   "execution_count": 91,
   "metadata": {
    "ExecuteTime": {
     "end_time": "2020-07-12T17:05:30.983669Z",
     "start_time": "2020-07-12T17:05:30.972733Z"
    }
   },
   "outputs": [
    {
     "name": "stdout",
     "output_type": "stream",
     "text": [
      "[45, 53, 35, 52, 51, 31, 48, 42, 37, 56, 17, 47, 18, 48, 25, 25, 41, 50, 31, 56]\n"
     ]
    }
   ],
   "source": [
    "intervalo_data = []\n",
    "for x in range(20):\n",
    "    intervalo_data.append(random.randint(15,60))\n",
    "print(intervalo_data)"
   ]
  },
  {
   "cell_type": "code",
   "execution_count": 94,
   "metadata": {
    "ExecuteTime": {
     "end_time": "2020-07-12T17:06:05.805197Z",
     "start_time": "2020-07-12T17:06:05.770836Z"
    }
   },
   "outputs": [
    {
     "name": "stderr",
     "output_type": "stream",
     "text": [
      "C:\\Users\\yukar\\anaconda3\\lib\\site-packages\\ipykernel_launcher.py:23: SettingWithCopyWarning: \n",
      "A value is trying to be set on a copy of a slice from a DataFrame\n",
      "\n",
      "See the caveats in the documentation: https://pandas.pydata.org/pandas-docs/stable/user_guide/indexing.html#returning-a-view-versus-a-copy\n"
     ]
    }
   ],
   "source": [
    "tabela_pedidos = pd.DataFrame(data={\"loja\": loja_id, \"data_criação_pedido\": intervalo_data,\n",
    "                                    \"Transações Hoje\": D0, \"Transações D-1º dia\": D1,\n",
    "                                   \"Transações Semana Atual\": S0, \"Transações Semana-1\": S1})\n",
    "\n",
    "\n",
    "tabela_pedidos[\"Dif D0 - D1\"] = tabela_pedidos[\"Transações Hoje\"] - tabela_pedidos[\"Transações D-1º dia\"]\n",
    "tabela_pedidos[\"Dif S0 - S1\"] = tabela_pedidos[\"Transações Semana Atual\"] - tabela_pedidos[\"Transações Semana-1\"]\n",
    "tabela_pedidos['num_pedidos'] = 1\n",
    "tabela_pedidos[\"status_id\"] = 300\n",
    "\n",
    "tabela_pedidos[\"Variação % D0 vs D-1\"] = 0\n",
    "for x in range(len(tabela_pedidos[\"Transações D-1º dia\"])):\n",
    "    if tabela_pedidos[\"Transações D-1º dia\"][x] == 0:\n",
    "        tabela_pedidos[\"Variação % D0 vs D-1\"][x] = np.nan\n",
    "    else:\n",
    "        tabela_pedidos[\"Variação % D0 vs D-1\"][x] = (tabela_pedidos[\"Dif D0 - D1\"][x]/tabela_pedidos[\"Transações D-1º dia\"][x])*100\n",
    "        \n",
    "tabela_pedidos[\"Variação % S0 vs S-1\"] = 0\n",
    "for x in range(len(tabela_pedidos[\"Transações D-1º dia\"])):\n",
    "    if tabela_pedidos[\"Transações Semana-1\"][x] == 0:\n",
    "        tabela_pedidos[\"Variação % S0 vs S-1\"][x] = np.nan\n",
    "    else:\n",
    "        tabela_pedidos[\"Variação % S0 vs S-1\"][x] = (tabela_pedidos[\"Dif S0 - S1\"][x]/tabela_pedidos[\"Transações Semana-1\"][x])*100\n",
    "\n"
   ]
  },
  {
   "cell_type": "code",
   "execution_count": 95,
   "metadata": {
    "ExecuteTime": {
     "end_time": "2020-07-12T17:06:06.231433Z",
     "start_time": "2020-07-12T17:06:06.190187Z"
    }
   },
   "outputs": [
    {
     "data": {
      "text/html": [
       "<div>\n",
       "<style scoped>\n",
       "    .dataframe tbody tr th:only-of-type {\n",
       "        vertical-align: middle;\n",
       "    }\n",
       "\n",
       "    .dataframe tbody tr th {\n",
       "        vertical-align: top;\n",
       "    }\n",
       "\n",
       "    .dataframe thead th {\n",
       "        text-align: right;\n",
       "    }\n",
       "</style>\n",
       "<table border=\"1\" class=\"dataframe\">\n",
       "  <thead>\n",
       "    <tr style=\"text-align: right;\">\n",
       "      <th></th>\n",
       "      <th>loja</th>\n",
       "      <th>data_criação_pedido</th>\n",
       "      <th>Transações Hoje</th>\n",
       "      <th>Transações D-1º dia</th>\n",
       "      <th>Transações Semana Atual</th>\n",
       "      <th>Transações Semana-1</th>\n",
       "      <th>Dif D0 - D1</th>\n",
       "      <th>Dif S0 - S1</th>\n",
       "      <th>num_pedidos</th>\n",
       "      <th>status_id</th>\n",
       "      <th>Variação % D0 vs D-1</th>\n",
       "      <th>Variação % S0 vs S-1</th>\n",
       "    </tr>\n",
       "  </thead>\n",
       "  <tbody>\n",
       "    <tr>\n",
       "      <th>0</th>\n",
       "      <td>83</td>\n",
       "      <td>47</td>\n",
       "      <td>18</td>\n",
       "      <td>2</td>\n",
       "      <td>974</td>\n",
       "      <td>825</td>\n",
       "      <td>16</td>\n",
       "      <td>149</td>\n",
       "      <td>1</td>\n",
       "      <td>300</td>\n",
       "      <td>800.000000</td>\n",
       "      <td>18</td>\n",
       "    </tr>\n",
       "    <tr>\n",
       "      <th>1</th>\n",
       "      <td>299</td>\n",
       "      <td>52</td>\n",
       "      <td>15</td>\n",
       "      <td>3</td>\n",
       "      <td>716</td>\n",
       "      <td>128</td>\n",
       "      <td>12</td>\n",
       "      <td>588</td>\n",
       "      <td>1</td>\n",
       "      <td>300</td>\n",
       "      <td>400.000000</td>\n",
       "      <td>459</td>\n",
       "    </tr>\n",
       "    <tr>\n",
       "      <th>2</th>\n",
       "      <td>109</td>\n",
       "      <td>48</td>\n",
       "      <td>19</td>\n",
       "      <td>6</td>\n",
       "      <td>916</td>\n",
       "      <td>750</td>\n",
       "      <td>13</td>\n",
       "      <td>166</td>\n",
       "      <td>1</td>\n",
       "      <td>300</td>\n",
       "      <td>216.000000</td>\n",
       "      <td>22</td>\n",
       "    </tr>\n",
       "    <tr>\n",
       "      <th>3</th>\n",
       "      <td>474</td>\n",
       "      <td>56</td>\n",
       "      <td>19</td>\n",
       "      <td>7</td>\n",
       "      <td>34</td>\n",
       "      <td>331</td>\n",
       "      <td>12</td>\n",
       "      <td>-297</td>\n",
       "      <td>1</td>\n",
       "      <td>300</td>\n",
       "      <td>171.428571</td>\n",
       "      <td>-89</td>\n",
       "    </tr>\n",
       "    <tr>\n",
       "      <th>4</th>\n",
       "      <td>343</td>\n",
       "      <td>18</td>\n",
       "      <td>17</td>\n",
       "      <td>11</td>\n",
       "      <td>636</td>\n",
       "      <td>691</td>\n",
       "      <td>6</td>\n",
       "      <td>-55</td>\n",
       "      <td>1</td>\n",
       "      <td>300</td>\n",
       "      <td>54.545455</td>\n",
       "      <td>-7</td>\n",
       "    </tr>\n",
       "    <tr>\n",
       "      <th>5</th>\n",
       "      <td>266</td>\n",
       "      <td>37</td>\n",
       "      <td>15</td>\n",
       "      <td>15</td>\n",
       "      <td>583</td>\n",
       "      <td>648</td>\n",
       "      <td>0</td>\n",
       "      <td>-65</td>\n",
       "      <td>1</td>\n",
       "      <td>300</td>\n",
       "      <td>0.000000</td>\n",
       "      <td>-10</td>\n",
       "    </tr>\n",
       "    <tr>\n",
       "      <th>6</th>\n",
       "      <td>266</td>\n",
       "      <td>48</td>\n",
       "      <td>11</td>\n",
       "      <td>13</td>\n",
       "      <td>83</td>\n",
       "      <td>378</td>\n",
       "      <td>-2</td>\n",
       "      <td>-295</td>\n",
       "      <td>1</td>\n",
       "      <td>300</td>\n",
       "      <td>-15.384615</td>\n",
       "      <td>-78</td>\n",
       "    </tr>\n",
       "    <tr>\n",
       "      <th>7</th>\n",
       "      <td>420</td>\n",
       "      <td>31</td>\n",
       "      <td>4</td>\n",
       "      <td>6</td>\n",
       "      <td>161</td>\n",
       "      <td>219</td>\n",
       "      <td>-2</td>\n",
       "      <td>-58</td>\n",
       "      <td>1</td>\n",
       "      <td>300</td>\n",
       "      <td>-33.000000</td>\n",
       "      <td>-26</td>\n",
       "    </tr>\n",
       "    <tr>\n",
       "      <th>8</th>\n",
       "      <td>53</td>\n",
       "      <td>56</td>\n",
       "      <td>12</td>\n",
       "      <td>19</td>\n",
       "      <td>411</td>\n",
       "      <td>423</td>\n",
       "      <td>-7</td>\n",
       "      <td>-12</td>\n",
       "      <td>1</td>\n",
       "      <td>300</td>\n",
       "      <td>-36.000000</td>\n",
       "      <td>-2</td>\n",
       "    </tr>\n",
       "    <tr>\n",
       "      <th>9</th>\n",
       "      <td>449</td>\n",
       "      <td>50</td>\n",
       "      <td>6</td>\n",
       "      <td>10</td>\n",
       "      <td>906</td>\n",
       "      <td>243</td>\n",
       "      <td>-4</td>\n",
       "      <td>663</td>\n",
       "      <td>1</td>\n",
       "      <td>300</td>\n",
       "      <td>-40.000000</td>\n",
       "      <td>272</td>\n",
       "    </tr>\n",
       "    <tr>\n",
       "      <th>10</th>\n",
       "      <td>213</td>\n",
       "      <td>51</td>\n",
       "      <td>9</td>\n",
       "      <td>16</td>\n",
       "      <td>457</td>\n",
       "      <td>450</td>\n",
       "      <td>-7</td>\n",
       "      <td>7</td>\n",
       "      <td>1</td>\n",
       "      <td>300</td>\n",
       "      <td>-43.000000</td>\n",
       "      <td>1</td>\n",
       "    </tr>\n",
       "    <tr>\n",
       "      <th>11</th>\n",
       "      <td>176</td>\n",
       "      <td>25</td>\n",
       "      <td>6</td>\n",
       "      <td>13</td>\n",
       "      <td>160</td>\n",
       "      <td>696</td>\n",
       "      <td>-7</td>\n",
       "      <td>-536</td>\n",
       "      <td>1</td>\n",
       "      <td>300</td>\n",
       "      <td>-53.846154</td>\n",
       "      <td>-77</td>\n",
       "    </tr>\n",
       "    <tr>\n",
       "      <th>12</th>\n",
       "      <td>423</td>\n",
       "      <td>31</td>\n",
       "      <td>9</td>\n",
       "      <td>20</td>\n",
       "      <td>226</td>\n",
       "      <td>626</td>\n",
       "      <td>-11</td>\n",
       "      <td>-400</td>\n",
       "      <td>1</td>\n",
       "      <td>300</td>\n",
       "      <td>-55.000000</td>\n",
       "      <td>-63</td>\n",
       "    </tr>\n",
       "    <tr>\n",
       "      <th>13</th>\n",
       "      <td>403</td>\n",
       "      <td>53</td>\n",
       "      <td>4</td>\n",
       "      <td>14</td>\n",
       "      <td>347</td>\n",
       "      <td>214</td>\n",
       "      <td>-10</td>\n",
       "      <td>133</td>\n",
       "      <td>1</td>\n",
       "      <td>300</td>\n",
       "      <td>-71.000000</td>\n",
       "      <td>62</td>\n",
       "    </tr>\n",
       "    <tr>\n",
       "      <th>14</th>\n",
       "      <td>447</td>\n",
       "      <td>42</td>\n",
       "      <td>5</td>\n",
       "      <td>19</td>\n",
       "      <td>813</td>\n",
       "      <td>926</td>\n",
       "      <td>-14</td>\n",
       "      <td>-113</td>\n",
       "      <td>1</td>\n",
       "      <td>300</td>\n",
       "      <td>-73.000000</td>\n",
       "      <td>-12</td>\n",
       "    </tr>\n",
       "    <tr>\n",
       "      <th>15</th>\n",
       "      <td>408</td>\n",
       "      <td>45</td>\n",
       "      <td>4</td>\n",
       "      <td>20</td>\n",
       "      <td>267</td>\n",
       "      <td>128</td>\n",
       "      <td>-16</td>\n",
       "      <td>139</td>\n",
       "      <td>1</td>\n",
       "      <td>300</td>\n",
       "      <td>-80.000000</td>\n",
       "      <td>108</td>\n",
       "    </tr>\n",
       "    <tr>\n",
       "      <th>16</th>\n",
       "      <td>136</td>\n",
       "      <td>41</td>\n",
       "      <td>2</td>\n",
       "      <td>18</td>\n",
       "      <td>457</td>\n",
       "      <td>410</td>\n",
       "      <td>-16</td>\n",
       "      <td>47</td>\n",
       "      <td>1</td>\n",
       "      <td>300</td>\n",
       "      <td>-88.888889</td>\n",
       "      <td>11</td>\n",
       "    </tr>\n",
       "    <tr>\n",
       "      <th>17</th>\n",
       "      <td>184</td>\n",
       "      <td>25</td>\n",
       "      <td>1</td>\n",
       "      <td>19</td>\n",
       "      <td>856</td>\n",
       "      <td>930</td>\n",
       "      <td>-18</td>\n",
       "      <td>-74</td>\n",
       "      <td>1</td>\n",
       "      <td>300</td>\n",
       "      <td>-94.736842</td>\n",
       "      <td>-7</td>\n",
       "    </tr>\n",
       "    <tr>\n",
       "      <th>18</th>\n",
       "      <td>299</td>\n",
       "      <td>35</td>\n",
       "      <td>0</td>\n",
       "      <td>20</td>\n",
       "      <td>856</td>\n",
       "      <td>516</td>\n",
       "      <td>-20</td>\n",
       "      <td>340</td>\n",
       "      <td>1</td>\n",
       "      <td>300</td>\n",
       "      <td>-100.000000</td>\n",
       "      <td>65</td>\n",
       "    </tr>\n",
       "    <tr>\n",
       "      <th>19</th>\n",
       "      <td>348</td>\n",
       "      <td>17</td>\n",
       "      <td>10</td>\n",
       "      <td>0</td>\n",
       "      <td>98</td>\n",
       "      <td>666</td>\n",
       "      <td>10</td>\n",
       "      <td>-568</td>\n",
       "      <td>1</td>\n",
       "      <td>300</td>\n",
       "      <td>NaN</td>\n",
       "      <td>-85</td>\n",
       "    </tr>\n",
       "  </tbody>\n",
       "</table>\n",
       "</div>"
      ],
      "text/plain": [
       "    loja  data_criação_pedido  Transações Hoje  Transações D-1º dia  \\\n",
       "0     83                   47               18                    2   \n",
       "1    299                   52               15                    3   \n",
       "2    109                   48               19                    6   \n",
       "3    474                   56               19                    7   \n",
       "4    343                   18               17                   11   \n",
       "5    266                   37               15                   15   \n",
       "6    266                   48               11                   13   \n",
       "7    420                   31                4                    6   \n",
       "8     53                   56               12                   19   \n",
       "9    449                   50                6                   10   \n",
       "10   213                   51                9                   16   \n",
       "11   176                   25                6                   13   \n",
       "12   423                   31                9                   20   \n",
       "13   403                   53                4                   14   \n",
       "14   447                   42                5                   19   \n",
       "15   408                   45                4                   20   \n",
       "16   136                   41                2                   18   \n",
       "17   184                   25                1                   19   \n",
       "18   299                   35                0                   20   \n",
       "19   348                   17               10                    0   \n",
       "\n",
       "    Transações Semana Atual  Transações Semana-1  Dif D0 - D1  Dif S0 - S1  \\\n",
       "0                       974                  825           16          149   \n",
       "1                       716                  128           12          588   \n",
       "2                       916                  750           13          166   \n",
       "3                        34                  331           12         -297   \n",
       "4                       636                  691            6          -55   \n",
       "5                       583                  648            0          -65   \n",
       "6                        83                  378           -2         -295   \n",
       "7                       161                  219           -2          -58   \n",
       "8                       411                  423           -7          -12   \n",
       "9                       906                  243           -4          663   \n",
       "10                      457                  450           -7            7   \n",
       "11                      160                  696           -7         -536   \n",
       "12                      226                  626          -11         -400   \n",
       "13                      347                  214          -10          133   \n",
       "14                      813                  926          -14         -113   \n",
       "15                      267                  128          -16          139   \n",
       "16                      457                  410          -16           47   \n",
       "17                      856                  930          -18          -74   \n",
       "18                      856                  516          -20          340   \n",
       "19                       98                  666           10         -568   \n",
       "\n",
       "    num_pedidos  status_id  Variação % D0 vs D-1  Variação % S0 vs S-1  \n",
       "0             1        300            800.000000                    18  \n",
       "1             1        300            400.000000                   459  \n",
       "2             1        300            216.000000                    22  \n",
       "3             1        300            171.428571                   -89  \n",
       "4             1        300             54.545455                    -7  \n",
       "5             1        300              0.000000                   -10  \n",
       "6             1        300            -15.384615                   -78  \n",
       "7             1        300            -33.000000                   -26  \n",
       "8             1        300            -36.000000                    -2  \n",
       "9             1        300            -40.000000                   272  \n",
       "10            1        300            -43.000000                     1  \n",
       "11            1        300            -53.846154                   -77  \n",
       "12            1        300            -55.000000                   -63  \n",
       "13            1        300            -71.000000                    62  \n",
       "14            1        300            -73.000000                   -12  \n",
       "15            1        300            -80.000000                   108  \n",
       "16            1        300            -88.888889                    11  \n",
       "17            1        300            -94.736842                    -7  \n",
       "18            1        300           -100.000000                    65  \n",
       "19            1        300                   NaN                   -85  "
      ]
     },
     "execution_count": 95,
     "metadata": {},
     "output_type": "execute_result"
    }
   ],
   "source": [
    "tabela_pedidos = tabela_pedidos.sort_values(by='Variação % D0 vs D-1', ascending=False).reset_index(drop=True)\n",
    "tabela_pedidos"
   ]
  },
  {
   "cell_type": "markdown",
   "metadata": {},
   "source": [
    "# Como Analistas de Dados, precisamos estar em contato direto com diferentes estilos de dados de origem, com diferentes tipos de formatação. Suponha que você acabou de receber o arquivo CSV abaixo de um Business Analyst, contendo uma relação transacional com os IDs de pedidos, a loja inerente a estes pedidos e o Valor de tais transações. Utilizando a biblioteca Pandas do Python, descreva um código que poderia ser utilizado para efetuar a leitura correta dos dados, tendo em vista que os IDs deverão ser entendidos como caracteres (Strings) e os valores como valores decimais.\"\n"
   ]
  },
  {
   "cell_type": "code",
   "execution_count": 96,
   "metadata": {
    "ExecuteTime": {
     "end_time": "2020-07-12T17:08:00.163512Z",
     "start_time": "2020-07-12T17:08:00.150355Z"
    }
   },
   "outputs": [],
   "source": [
    "def etl(csv):\n",
    "    \n",
    "    df = pd.read_csv(f'{csv}')\n",
    "    df['ID'] = df['ID'].astype(str) \n",
    "    df['Valores'] = df['ID'].astype(float) \n",
    "    return df"
   ]
  }
 ],
 "metadata": {
  "kernelspec": {
   "display_name": "Python 3",
   "language": "python",
   "name": "python3"
  },
  "language_info": {
   "codemirror_mode": {
    "name": "ipython",
    "version": 3
   },
   "file_extension": ".py",
   "mimetype": "text/x-python",
   "name": "python",
   "nbconvert_exporter": "python",
   "pygments_lexer": "ipython3",
   "version": "3.7.6"
  },
  "nbTranslate": {
   "displayLangs": [
    "*"
   ],
   "hotkey": "alt-t",
   "langInMainMenu": true,
   "sourceLang": "en",
   "targetLang": "fr",
   "useGoogleTranslate": true
  },
  "toc": {
   "base_numbering": 1,
   "nav_menu": {},
   "number_sections": true,
   "sideBar": true,
   "skip_h1_title": false,
   "title_cell": "Table of Contents",
   "title_sidebar": "Contents",
   "toc_cell": false,
   "toc_position": {},
   "toc_section_display": true,
   "toc_window_display": false
  }
 },
 "nbformat": 4,
 "nbformat_minor": 4
}
